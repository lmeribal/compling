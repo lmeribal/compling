{
 "cells": [
  {
   "cell_type": "markdown",
   "id": "1bf6f873",
   "metadata": {},
   "source": [
    "# Домашнее задание № 8"
   ]
  },
  {
   "cell_type": "markdown",
   "id": "3b4bd487",
   "metadata": {},
   "source": [
    "## Задание 1 (4 балла) "
   ]
  },
  {
   "cell_type": "markdown",
   "id": "bf4c4f87",
   "metadata": {},
   "source": [
    "Обучите 8 моделей для задачи классификации текста (датасет - lenta_40k ). А именно:  \n",
    "1) модель с 1 GRU слоем;   \n",
    "2) модель с 1 LSTM слоем    \n",
    "3) модель с 1 GRU и 1 LSTM слоем  \n",
    "4) модель с 1 BIGRU и 2 LSTM слоями  \n",
    "5) модель с 5 GRU слоями и 3 LSTM слоями  \n",
    "6) модель 1 BIGRU и 1 BILSTM слоями, причем так чтобы модели для forward и backward прохода отличались   \n",
    "7) модель, где последовательно идут слои: LSTM, GRU, BILSTM, BIGRU, GRU, LSTM  \n",
    "8) модель с 50 любыми рекуррентными слоями  \n",
    "\n",
    "\n",
    "Параметр units и размер эмбединга можете задать любой. Оцените качество каждой модели и определите победителя."
   ]
  },
  {
   "cell_type": "code",
   "execution_count": 1,
   "id": "83db6635",
   "metadata": {},
   "outputs": [],
   "source": [
    "import tensorflow as tf\n",
    "import pandas as pd\n",
    "import numpy as np\n",
    "from string import punctuation\n",
    "from sklearn.model_selection import train_test_split\n",
    "from collections import Counter\n",
    "from IPython.display import Image\n",
    "from IPython.core.display import HTML \n",
    "import matplotlib.pyplot as plt\n",
    "%matplotlib inline"
   ]
  },
  {
   "cell_type": "code",
   "execution_count": 3,
   "id": "b6676dab",
   "metadata": {},
   "outputs": [],
   "source": [
    "data = pd.read_csv('lenta_40k.csv.zip')"
   ]
  },
  {
   "cell_type": "code",
   "execution_count": 4,
   "id": "687f9601",
   "metadata": {},
   "outputs": [],
   "source": [
    "def preprocess(text):\n",
    "    tokens = text.lower().split()\n",
    "    tokens = [token.strip(punctuation) for token in tokens]\n",
    "    return tokens"
   ]
  },
  {
   "cell_type": "code",
   "execution_count": 5,
   "id": "d2058670",
   "metadata": {},
   "outputs": [],
   "source": [
    "from tensorflow.keras import backend as K\n",
    "def f1(y_true, y_pred):\n",
    "    def recall(y_true, y_pred):\n",
    "        \"\"\"Recall metric.\n",
    "\n",
    "        Only computes a batch-wise average of recall.\n",
    "\n",
    "        Computes the recall, a metric for multi-label classification of\n",
    "        how many relevant items are selected.\n",
    "        \"\"\"\n",
    "        true_positives = K.sum(K.round(K.clip(y_true * y_pred, 0, 1)))\n",
    "        possible_positives = K.sum(K.round(K.clip(y_true, 0, 1)))\n",
    "        recall = true_positives / (possible_positives + K.epsilon())\n",
    "        return recall\n",
    "\n",
    "    def precision(y_true, y_pred):\n",
    "        \"\"\"Precision metric.\n",
    "\n",
    "        Only computes a batch-wise average of precision.\n",
    "\n",
    "        Computes the precision, a metric for multi-label classification of\n",
    "        how many selected items are relevant.\n",
    "        \"\"\"\n",
    "        true_positives = K.sum(K.round(K.clip(y_true * y_pred, 0, 1)))\n",
    "        predicted_positives = K.sum(K.round(K.clip(y_pred, 0, 1)))\n",
    "        precision = true_positives / (predicted_positives + K.epsilon())\n",
    "        return precision\n",
    "    precision = precision(y_true, y_pred)\n",
    "    recall = recall(y_true, y_pred)\n",
    "    return 2*((precision*recall)/(precision+recall+K.epsilon()))"
   ]
  },
  {
   "cell_type": "code",
   "execution_count": 6,
   "id": "f17db521",
   "metadata": {},
   "outputs": [],
   "source": [
    "# словарь\n",
    "vocab = Counter()\n",
    "\n",
    "for text in data.text:\n",
    "    vocab.update(preprocess(text))"
   ]
  },
  {
   "cell_type": "code",
   "execution_count": 7,
   "id": "d48037c1",
   "metadata": {},
   "outputs": [],
   "source": [
    "# отфильтрованный словарь\n",
    "filtered_vocab = set()\n",
    "\n",
    "for word in vocab:\n",
    "    if vocab[word] > 30:\n",
    "        filtered_vocab.add(word)"
   ]
  },
  {
   "cell_type": "code",
   "execution_count": 8,
   "id": "e9684730",
   "metadata": {},
   "outputs": [],
   "source": [
    "# индексируем слова\n",
    "word2id = {'PAD':0, 'UNK':1}\n",
    "\n",
    "for word in filtered_vocab:\n",
    "    word2id[word] = len(word2id)"
   ]
  },
  {
   "cell_type": "code",
   "execution_count": 9,
   "id": "c1cbefb1",
   "metadata": {},
   "outputs": [],
   "source": [
    "id2word = {i:word for word, i in word2id.items()}"
   ]
  },
  {
   "cell_type": "code",
   "execution_count": 10,
   "id": "e56d463a",
   "metadata": {},
   "outputs": [],
   "source": [
    "# переводим тексты в последовательности индексов\n",
    "X = []\n",
    "\n",
    "for text in data.text:\n",
    "    tokens = preprocess(text)\n",
    "    ids = [word2id.get(token, 1) for token in tokens]\n",
    "    X.append(ids)"
   ]
  },
  {
   "cell_type": "code",
   "execution_count": 11,
   "id": "304fe285",
   "metadata": {},
   "outputs": [],
   "source": [
    "MAX_LEN = max(len(x) for x in X)"
   ]
  },
  {
   "cell_type": "code",
   "execution_count": 12,
   "id": "e0d44db3",
   "metadata": {},
   "outputs": [],
   "source": [
    "MEAN_LEN = np.median([len(x) for x in X])\n",
    "MAX_LEN = int(MEAN_LEN + 30)"
   ]
  },
  {
   "cell_type": "code",
   "execution_count": 13,
   "id": "1aa2f78e",
   "metadata": {},
   "outputs": [],
   "source": [
    "X = tf.keras.preprocessing.sequence.pad_sequences(X, maxlen=MAX_LEN)"
   ]
  },
  {
   "cell_type": "code",
   "execution_count": 14,
   "id": "78560a9f",
   "metadata": {},
   "outputs": [],
   "source": [
    "id2label = {i:label for i, label in enumerate(set(data.topic.values))}\n",
    "label2id = {l:i for i, l in id2label.items()}"
   ]
  },
  {
   "cell_type": "code",
   "execution_count": 15,
   "id": "c2de2d69",
   "metadata": {},
   "outputs": [],
   "source": [
    "y = tf.keras.utils.to_categorical([label2id[label] for label in data.topic.values])"
   ]
  },
  {
   "cell_type": "code",
   "execution_count": 16,
   "id": "39972d85",
   "metadata": {},
   "outputs": [],
   "source": [
    "X_train, X_valid, y_train, y_valid = train_test_split(X, y, test_size=0.05, stratify=y)"
   ]
  },
  {
   "cell_type": "markdown",
   "id": "1f0e8cba",
   "metadata": {},
   "source": [
    "# 1 GRU layer"
   ]
  },
  {
   "cell_type": "code",
   "execution_count": 18,
   "id": "cade86b1",
   "metadata": {},
   "outputs": [
    {
     "name": "stdout",
     "output_type": "stream",
     "text": [
      "Epoch 1/10\n",
      "43/43 [==============================] - 53s 1s/step - loss: 2.5991 - f1: 0.0048 - rec@prec: 2.3732e-05 - val_loss: 2.3583 - val_f1: 0.0000e+00 - val_rec@prec: 0.0000e+00\n",
      "Epoch 2/10\n",
      "43/43 [==============================] - 51s 1s/step - loss: 2.2933 - f1: 0.0000e+00 - rec@prec: 7.1195e-05 - val_loss: 2.2431 - val_f1: 0.0000e+00 - val_rec@prec: 4.5086e-04\n",
      "Epoch 3/10\n",
      "43/43 [==============================] - 51s 1s/step - loss: 2.1491 - f1: 7.0597e-04 - rec@prec: 7.1195e-04 - val_loss: 2.0890 - val_f1: 0.0033 - val_rec@prec: 0.0045\n",
      "Epoch 4/10\n",
      "43/43 [==============================] - 54s 1s/step - loss: 1.9316 - f1: 0.0527 - rec@prec: 0.0129 - val_loss: 1.9093 - val_f1: 0.1127 - val_rec@prec: 0.0334\n",
      "Epoch 5/10\n",
      "43/43 [==============================] - 53s 1s/step - loss: 1.6873 - f1: 0.2229 - rec@prec: 0.1050 - val_loss: 1.8096 - val_f1: 0.2046 - val_rec@prec: 0.0600\n",
      "Epoch 6/10\n",
      "43/43 [==============================] - 52s 1s/step - loss: 1.5008 - f1: 0.3513 - rec@prec: 0.2106 - val_loss: 1.6667 - val_f1: 0.3300 - val_rec@prec: 0.1159\n",
      "Epoch 7/10\n",
      "43/43 [==============================] - 49s 1s/step - loss: 1.2947 - f1: 0.4848 - rec@prec: 0.3452 - val_loss: 1.5487 - val_f1: 0.4310 - val_rec@prec: 0.2119\n",
      "Epoch 8/10\n",
      "43/43 [==============================] - 49s 1s/step - loss: 1.1134 - f1: 0.5858 - rec@prec: 0.4791 - val_loss: 1.4804 - val_f1: 0.5154 - val_rec@prec: 0.2408\n",
      "Epoch 9/10\n",
      "43/43 [==============================] - 48s 1s/step - loss: 0.9398 - f1: 0.6758 - rec@prec: 0.6276 - val_loss: 1.4513 - val_f1: 0.5691 - val_rec@prec: 0.3106\n",
      "Epoch 10/10\n",
      "43/43 [==============================] - 51s 1s/step - loss: 0.7960 - f1: 0.7404 - rec@prec: 0.7266 - val_loss: 1.4954 - val_f1: 0.5945 - val_rec@prec: 0.2931\n",
      "dict_keys(['loss', 'f1', 'rec@prec', 'val_loss', 'val_f1', 'val_rec@prec'])\n"
     ]
    },
    {
     "data": {
      "image/png": "[encoded data removed]",
      "text/plain": [
       "<Figure size 432x288 with 1 Axes>"
      ]
     },
     "metadata": {
      "needs_background": "light"
     },
     "output_type": "display_data"
    }
   ],
   "source": [
    "inputs = tf.keras.layers.Input(shape=(MAX_LEN,))\n",
    "embeddings = tf.keras.layers.Embedding(input_dim=len(word2id), output_dim=30)(inputs, )\n",
    "\n",
    "rnn = tf.keras.layers.GRU(128, return_sequences=False)(embeddings)\n",
    "\n",
    "outputs = tf.keras.layers.Dense(len(label2id), activation='softmax')(rnn)\n",
    "\n",
    "model = tf.keras.Model(inputs=inputs, outputs=outputs)\n",
    "optimizer = tf.keras.optimizers.Adam(learning_rate=0.001)\n",
    "model.compile(optimizer=optimizer,\n",
    "              loss='categorical_crossentropy',\n",
    "              metrics=[f1, tf.keras.metrics.RecallAtPrecision(0.8, name='rec@prec')])\n",
    "\n",
    "model.fit(X_train, y_train, \n",
    "          validation_data=(X_valid, y_valid),\n",
    "          batch_size=1000,\n",
    "         epochs=10)\n",
    "\n",
    "print(model.history.history.keys())\n",
    "# summarize history for accuracy\n",
    "plt.plot(model.history.history['rec@prec'])\n",
    "plt.plot(model.history.history['val_rec@prec'])\n",
    "plt.title('model f1')\n",
    "plt.ylabel('f1')\n",
    "plt.xlabel('epoch')\n",
    "plt.legend(['train', 'val'], loc='upper left')\n",
    "plt.show()"
   ]
  },
  {
   "cell_type": "markdown",
   "id": "0c8d0004",
   "metadata": {},
   "source": [
    "# 1 LSTM layer"
   ]
  },
  {
   "cell_type": "code",
   "execution_count": 20,
   "id": "56174257",
   "metadata": {},
   "outputs": [
    {
     "name": "stdout",
     "output_type": "stream",
     "text": [
      "Epoch 1/10\n",
      "43/43 [==============================] - 53s 1s/step - loss: 2.4921 - f1: 0.0000e+00 - rec@prec: 0.0000e+00 - val_loss: 2.3198 - val_f1: 0.0000e+00 - val_rec@prec: 0.0000e+00\n",
      "Epoch 2/10\n",
      "43/43 [==============================] - 52s 1s/step - loss: 2.3106 - f1: 0.0000e+00 - rec@prec: 0.0000e+00 - val_loss: 2.2961 - val_f1: 0.0000e+00 - val_rec@prec: 0.0027\n",
      "Epoch 3/10\n",
      "43/43 [==============================] - 52s 1s/step - loss: 2.2043 - f1: 0.0071 - rec@prec: 5.9329e-04 - val_loss: 1.9883 - val_f1: 0.0277 - val_rec@prec: 4.5086e-04\n",
      "Epoch 4/10\n",
      "43/43 [==============================] - 50s 1s/step - loss: 1.7795 - f1: 0.1769 - rec@prec: 0.0578 - val_loss: 1.6420 - val_f1: 0.3218 - val_rec@prec: 0.1646\n",
      "Epoch 5/10\n",
      "43/43 [==============================] - 50s 1s/step - loss: 1.4634 - f1: 0.3782 - rec@prec: 0.2164 - val_loss: 1.5145 - val_f1: 0.4253 - val_rec@prec: 0.2331\n",
      "Epoch 6/10\n",
      "43/43 [==============================] - 50s 1s/step - loss: 1.2536 - f1: 0.5601 - rec@prec: 0.3938 - val_loss: 1.4064 - val_f1: 0.5893 - val_rec@prec: 0.2922\n",
      "Epoch 7/10\n",
      "43/43 [==============================] - 51s 1s/step - loss: 1.0901 - f1: 0.6354 - rec@prec: 0.5160 - val_loss: 1.2610 - val_f1: 0.6465 - val_rec@prec: 0.4585\n",
      "Epoch 8/10\n",
      "43/43 [==============================] - 60s 1s/step - loss: 0.9078 - f1: 0.7154 - rec@prec: 0.6598 - val_loss: 1.2462 - val_f1: 0.6279 - val_rec@prec: 0.4748\n",
      "Epoch 9/10\n",
      "43/43 [==============================] - 57s 1s/step - loss: 0.8182 - f1: 0.7459 - rec@prec: 0.7224 - val_loss: 1.1933 - val_f1: 0.6507 - val_rec@prec: 0.5027\n",
      "Epoch 10/10\n",
      "43/43 [==============================] - 52s 1s/step - loss: 0.7158 - f1: 0.7857 - rec@prec: 0.7876 - val_loss: 1.1287 - val_f1: 0.6845 - val_rec@prec: 0.5771\n",
      "dict_keys(['loss', 'f1', 'rec@prec', 'val_loss', 'val_f1', 'val_rec@prec'])\n"
     ]
    },
    {
     "data": {
      "image/png": "[encoded data removed]",
      "text/plain": [
       "<Figure size 432x288 with 1 Axes>"
      ]
     },
     "metadata": {
      "needs_background": "light"
     },
     "output_type": "display_data"
    }
   ],
   "source": [
    "inputs = tf.keras.layers.Input(shape=(MAX_LEN,))\n",
    "embeddings = tf.keras.layers.Embedding(input_dim=len(word2id), output_dim=30)(inputs, )\n",
    "\n",
    "rnn = tf.keras.layers.LSTM(128, return_sequences=False)(embeddings)\n",
    "\n",
    "outputs = tf.keras.layers.Dense(len(label2id), activation='softmax')(rnn)\n",
    "\n",
    "model = tf.keras.Model(inputs=inputs, outputs=outputs)\n",
    "optimizer = tf.keras.optimizers.Adam(learning_rate=0.001)\n",
    "model.compile(optimizer=optimizer,\n",
    "              loss='categorical_crossentropy',\n",
    "              metrics=[f1, tf.keras.metrics.RecallAtPrecision(0.8, name='rec@prec')])\n",
    "\n",
    "model.fit(X_train, y_train, \n",
    "          validation_data=(X_valid, y_valid),\n",
    "          batch_size=1000,\n",
    "         epochs=10)\n",
    "\n",
    "print(model.history.history.keys())\n",
    "# summarize history for accuracy\n",
    "plt.plot(model.history.history['rec@prec'])\n",
    "plt.plot(model.history.history['val_rec@prec'])\n",
    "plt.title('model f1')\n",
    "plt.ylabel('f1')\n",
    "plt.xlabel('epoch')\n",
    "plt.legend(['train', 'val'], loc='upper left')\n",
    "plt.show()"
   ]
  },
  {
   "cell_type": "markdown",
   "id": "78550c7e",
   "metadata": {},
   "source": [
    "# 1 GRU and 1 LSTM layer"
   ]
  },
  {
   "cell_type": "code",
   "execution_count": 22,
   "id": "dac26bdc",
   "metadata": {},
   "outputs": [
    {
     "name": "stdout",
     "output_type": "stream",
     "text": [
      "Epoch 1/10\n",
      "43/43 [==============================] - 122s 3s/step - loss: 2.4496 - f1: 0.0000e+00 - rec@prec: 0.0000e+00 - val_loss: 2.3183 - val_f1: 0.0000e+00 - val_rec@prec: 0.0000e+00\n",
      "Epoch 2/10\n",
      "43/43 [==============================] - 114s 3s/step - loss: 2.2770 - f1: 0.0000e+00 - rec@prec: 2.8478e-04 - val_loss: 2.0577 - val_f1: 6.6600e-04 - val_rec@prec: 0.0171\n",
      "Epoch 3/10\n",
      "43/43 [==============================] - 106s 2s/step - loss: 1.8507 - f1: 0.0778 - rec@prec: 0.0481 - val_loss: 1.7683 - val_f1: 0.1549 - val_rec@prec: 0.0703\n",
      "Epoch 4/10\n",
      "43/43 [==============================] - 106s 2s/step - loss: 1.6364 - f1: 0.1842 - rec@prec: 0.1022 - val_loss: 1.6784 - val_f1: 0.2015 - val_rec@prec: 0.1118\n",
      "Epoch 5/10\n",
      "43/43 [==============================] - 116s 3s/step - loss: 1.5358 - f1: 0.2706 - rec@prec: 0.1276 - val_loss: 1.6461 - val_f1: 0.2689 - val_rec@prec: 0.1199\n",
      "Epoch 6/10\n",
      "43/43 [==============================] - 114s 3s/step - loss: 1.3931 - f1: 0.3657 - rec@prec: 0.1896 - val_loss: 1.5206 - val_f1: 0.4253 - val_rec@prec: 0.1912\n",
      "Epoch 7/10\n",
      "43/43 [==============================] - 116s 3s/step - loss: 1.2388 - f1: 0.4984 - rec@prec: 0.3054 - val_loss: 1.4656 - val_f1: 0.4835 - val_rec@prec: 0.2610\n",
      "Epoch 8/10\n",
      "43/43 [==============================] - 114s 3s/step - loss: 1.0966 - f1: 0.6035 - rec@prec: 0.4581 - val_loss: 1.4612 - val_f1: 0.5181 - val_rec@prec: 0.2953\n",
      "Epoch 9/10\n",
      "43/43 [==============================] - 116s 3s/step - loss: 0.9907 - f1: 0.6746 - rec@prec: 0.5784 - val_loss: 1.4115 - val_f1: 0.5880 - val_rec@prec: 0.3539\n",
      "Epoch 10/10\n",
      "43/43 [==============================] - 114s 3s/step - loss: 0.8217 - f1: 0.7501 - rec@prec: 0.7215 - val_loss: 1.2576 - val_f1: 0.6610 - val_rec@prec: 0.5050\n",
      "dict_keys(['loss', 'f1', 'rec@prec', 'val_loss', 'val_f1', 'val_rec@prec'])\n"
     ]
    },
    {
     "data": {
      "image/png": "[encoded data removed]",
      "text/plain": [
       "<Figure size 432x288 with 1 Axes>"
      ]
     },
     "metadata": {
      "needs_background": "light"
     },
     "output_type": "display_data"
    }
   ],
   "source": [
    "inputs = tf.keras.layers.Input(shape=(MAX_LEN,))\n",
    "embeddings = tf.keras.layers.Embedding(input_dim=len(word2id), output_dim=30)(inputs, )\n",
    "\n",
    "lstm_1 = tf.keras.layers.GRU(128, return_sequences=True)(embeddings)\n",
    "lstm_2 = tf.keras.layers.LSTM(128, return_sequences=False)(lstm_1)\n",
    "\n",
    "outputs = tf.keras.layers.Dense(len(label2id), activation='softmax')(lstm_2)\n",
    "\n",
    "model = tf.keras.Model(inputs=inputs, outputs=outputs)\n",
    "optimizer = tf.keras.optimizers.Adam(learning_rate=0.001)\n",
    "model.compile(optimizer=optimizer,\n",
    "              loss='categorical_crossentropy',\n",
    "              metrics=[f1, tf.keras.metrics.RecallAtPrecision(0.8, name='rec@prec')])\n",
    "\n",
    "model.fit(X_train, y_train, \n",
    "          validation_data=(X_valid, y_valid),\n",
    "          batch_size=1000,\n",
    "         epochs=10)\n",
    "\n",
    "print(model.history.history.keys())\n",
    "# summarize history for accuracy\n",
    "plt.plot(model.history.history['rec@prec'])\n",
    "plt.plot(model.history.history['val_rec@prec'])\n",
    "plt.title('model f1')\n",
    "plt.ylabel('f1')\n",
    "plt.xlabel('epoch')\n",
    "plt.legend(['train', 'val'], loc='upper left')\n",
    "plt.show()"
   ]
  },
  {
   "cell_type": "markdown",
   "id": "ac27a6ae",
   "metadata": {},
   "source": [
    "# 2 LSTM and 1 BIGRU layer"
   ]
  },
  {
   "cell_type": "code",
   "execution_count": 26,
   "id": "c6ef110c",
   "metadata": {},
   "outputs": [
    {
     "name": "stdout",
     "output_type": "stream",
     "text": [
      "Epoch 1/10\n",
      "43/43 [==============================] - 242s 5s/step - loss: 2.4265 - f1: 0.0000e+00 - rec@prec: 0.0000e+00 - val_loss: 2.3192 - val_f1: 0.0000e+00 - val_rec@prec: 0.0000e+00\n",
      "Epoch 2/10\n",
      "43/43 [==============================] - 233s 5s/step - loss: 2.2116 - f1: 0.0221 - rec@prec: 0.0000e+00 - val_loss: 1.8962 - val_f1: 0.0660 - val_rec@prec: 4.5086e-04\n",
      "Epoch 3/10\n",
      "43/43 [==============================] - 250s 6s/step - loss: 1.6425 - f1: 0.3414 - rec@prec: 0.1086 - val_loss: 1.7346 - val_f1: 0.3867 - val_rec@prec: 0.1150\n",
      "Epoch 4/10\n",
      "43/43 [==============================] - 248s 6s/step - loss: 1.2775 - f1: 0.5767 - rec@prec: 0.4013 - val_loss: 1.3880 - val_f1: 0.5489 - val_rec@prec: 0.3305\n",
      "Epoch 5/10\n",
      "43/43 [==============================] - 273s 6s/step - loss: 1.0901 - f1: 0.6612 - rec@prec: 0.5459 - val_loss: 1.3093 - val_f1: 0.5979 - val_rec@prec: 0.4152\n",
      "Epoch 6/10\n",
      "43/43 [==============================] - 288s 7s/step - loss: 1.0018 - f1: 0.6937 - rec@prec: 0.6077 - val_loss: 1.3174 - val_f1: 0.5857 - val_rec@prec: 0.3724\n",
      "Epoch 7/10\n",
      "43/43 [==============================] - 293s 7s/step - loss: 0.9115 - f1: 0.7282 - rec@prec: 0.6760 - val_loss: 1.3159 - val_f1: 0.6176 - val_rec@prec: 0.4418\n",
      "Epoch 8/10\n",
      "43/43 [==============================] - 296s 7s/step - loss: 0.8201 - f1: 0.7618 - rec@prec: 0.7393 - val_loss: 1.3054 - val_f1: 0.6291 - val_rec@prec: 0.4459\n",
      "Epoch 9/10\n",
      "43/43 [==============================] - 281s 7s/step - loss: 0.7574 - f1: 0.7841 - rec@prec: 0.7757 - val_loss: 1.2867 - val_f1: 0.6332 - val_rec@prec: 0.5045\n",
      "Epoch 10/10\n",
      "43/43 [==============================] - 287s 7s/step - loss: 0.6710 - f1: 0.8134 - rec@prec: 0.8204 - val_loss: 1.3390 - val_f1: 0.6182 - val_rec@prec: 0.4396\n",
      "dict_keys(['loss', 'f1', 'rec@prec', 'val_loss', 'val_f1', 'val_rec@prec'])\n"
     ]
    },
    {
     "data": {
      "image/png": "[encoded data removed]",
      "text/plain": [
       "<Figure size 432x288 with 1 Axes>"
      ]
     },
     "metadata": {
      "needs_background": "light"
     },
     "output_type": "display_data"
    }
   ],
   "source": [
    "inputs = tf.keras.layers.Input(shape=(MAX_LEN,))\n",
    "embeddings = tf.keras.layers.Embedding(input_dim=len(word2id), output_dim=30)(inputs, )\n",
    "\n",
    "bigru = tf.keras.layers.LSTM(128, return_sequences=True)(embeddings)\n",
    "lstm_1 = tf.keras.layers.Bidirectional(tf.keras.layers.GRU(128, return_sequences=True))(bigru)\n",
    "lstm_2 = tf.keras.layers.LSTM(128, return_sequences=False)(lstm_1)\n",
    "\n",
    "outputs = tf.keras.layers.Dense(len(label2id), activation='softmax')(lstm_2)\n",
    "\n",
    "model = tf.keras.Model(inputs=inputs, outputs=outputs)\n",
    "optimizer = tf.keras.optimizers.Adam(learning_rate=0.001)\n",
    "model.compile(optimizer=optimizer,\n",
    "              loss='categorical_crossentropy',\n",
    "              metrics=[f1, tf.keras.metrics.RecallAtPrecision(0.8, name='rec@prec')])\n",
    "\n",
    "model.fit(X_train, y_train, \n",
    "          validation_data=(X_valid, y_valid),\n",
    "          batch_size=1000,\n",
    "         epochs=10)\n",
    "\n",
    "print(model.history.history.keys())\n",
    "# summarize history for accuracy\n",
    "plt.plot(model.history.history['rec@prec'])\n",
    "plt.plot(model.history.history['val_rec@prec'])\n",
    "plt.title('model f1')\n",
    "plt.ylabel('f1')\n",
    "plt.xlabel('epoch')\n",
    "plt.legend(['train', 'val'], loc='upper left')\n",
    "plt.show()"
   ]
  },
  {
   "cell_type": "markdown",
   "id": "9d0e1bcc",
   "metadata": {},
   "source": [
    "# 5 GRU and 3 LSTM layer"
   ]
  },
  {
   "cell_type": "code",
   "execution_count": 28,
   "id": "3d7d711d",
   "metadata": {},
   "outputs": [
    {
     "name": "stdout",
     "output_type": "stream",
     "text": [
      "Epoch 1/10\n",
      "43/43 [==============================] - 500s 11s/step - loss: 2.4052 - f1: 0.0000e+00 - rec@prec: 0.0000e+00 - val_loss: 2.3208 - val_f1: 0.0000e+00 - val_rec@prec: 0.0000e+00\n",
      "Epoch 2/10\n",
      "43/43 [==============================] - 537s 13s/step - loss: 2.3238 - f1: 0.0000e+00 - rec@prec: 0.0000e+00 - val_loss: 2.3225 - val_f1: 0.0000e+00 - val_rec@prec: 0.0000e+00\n",
      "Epoch 3/10\n",
      "43/43 [==============================] - 509s 12s/step - loss: 2.3249 - f1: 0.0000e+00 - rec@prec: 0.0000e+00 - val_loss: 2.3228 - val_f1: 0.0000e+00 - val_rec@prec: 0.0000e+00\n",
      "Epoch 4/10\n",
      "43/43 [==============================] - 528s 12s/step - loss: 2.3232 - f1: 0.0000e+00 - rec@prec: 0.0000e+00 - val_loss: 2.3189 - val_f1: 0.0000e+00 - val_rec@prec: 0.0000e+00\n",
      "Epoch 5/10\n",
      "43/43 [==============================] - 472s 11s/step - loss: 2.3225 - f1: 0.0000e+00 - rec@prec: 0.0000e+00 - val_loss: 2.3194 - val_f1: 0.0000e+00 - val_rec@prec: 0.0000e+00\n",
      "Epoch 6/10\n",
      "43/43 [==============================] - 471s 11s/step - loss: 2.3223 - f1: 0.0000e+00 - rec@prec: 0.0000e+00 - val_loss: 2.3189 - val_f1: 0.0000e+00 - val_rec@prec: 0.0000e+00\n",
      "Epoch 7/10\n",
      "43/43 [==============================] - 510s 12s/step - loss: 2.3231 - f1: 0.0000e+00 - rec@prec: 0.0000e+00 - val_loss: 2.3199 - val_f1: 0.0000e+00 - val_rec@prec: 0.0000e+00\n",
      "Epoch 8/10\n",
      "43/43 [==============================] - 536s 12s/step - loss: 2.3223 - f1: 0.0000e+00 - rec@prec: 0.0000e+00 - val_loss: 2.3207 - val_f1: 0.0000e+00 - val_rec@prec: 0.0000e+00\n",
      "Epoch 9/10\n",
      "43/43 [==============================] - 505s 12s/step - loss: 2.3225 - f1: 0.0000e+00 - rec@prec: 0.0000e+00 - val_loss: 2.3200 - val_f1: 0.0000e+00 - val_rec@prec: 0.0000e+00\n",
      "Epoch 10/10\n",
      "43/43 [==============================] - 501s 12s/step - loss: 2.3228 - f1: 0.0000e+00 - rec@prec: 0.0000e+00 - val_loss: 2.3182 - val_f1: 0.0000e+00 - val_rec@prec: 0.0000e+00\n",
      "dict_keys(['loss', 'f1', 'rec@prec', 'val_loss', 'val_f1', 'val_rec@prec'])\n"
     ]
    },
    {
     "data": {
      "image/png": "[encoded data removed]",
      "text/plain": [
       "<Figure size 432x288 with 1 Axes>"
      ]
     },
     "metadata": {
      "needs_background": "light"
     },
     "output_type": "display_data"
    }
   ],
   "source": [
    "inputs = tf.keras.layers.Input(shape=(MAX_LEN,))\n",
    "embeddings = tf.keras.layers.Embedding(input_dim=len(word2id), output_dim=30)(inputs, )\n",
    "\n",
    "gru_1 = tf.keras.layers.GRU(128, return_sequences=True)(embeddings)\n",
    "gru_2 = tf.keras.layers.GRU(128, return_sequences=True)(gru_1)\n",
    "gru_3 = tf.keras.layers.GRU(128, return_sequences=True)(gru_2)\n",
    "gru_4 = tf.keras.layers.GRU(128, return_sequences=True)(gru_3)\n",
    "gru_5 = tf.keras.layers.GRU(128, return_sequences=True)(gru_4)\n",
    "lstm_1 = tf.keras.layers.LSTM(128, return_sequences=True)(gru_5)\n",
    "lstm_2 = tf.keras.layers.LSTM(128, return_sequences=True)(lstm_1)\n",
    "lstm_3 = tf.keras.layers.LSTM(128, return_sequences=False)(lstm_2)\n",
    "\n",
    "outputs = tf.keras.layers.Dense(len(label2id), activation='softmax')(lstm_3)\n",
    "\n",
    "model = tf.keras.Model(inputs=inputs, outputs=outputs)\n",
    "optimizer = tf.keras.optimizers.Adam(learning_rate=0.001)\n",
    "model.compile(optimizer=optimizer,\n",
    "              loss='categorical_crossentropy',\n",
    "              metrics=[f1, tf.keras.metrics.RecallAtPrecision(0.8, name='rec@prec')])\n",
    "\n",
    "model.fit(X_train, y_train, \n",
    "          validation_data=(X_valid, y_valid),\n",
    "          batch_size=1000,\n",
    "         epochs=10)\n",
    "\n",
    "print(model.history.history.keys())\n",
    "# summarize history for accuracy\n",
    "plt.plot(model.history.history['rec@prec'])\n",
    "plt.plot(model.history.history['val_rec@prec'])\n",
    "plt.title('model f1')\n",
    "plt.ylabel('f1')\n",
    "plt.xlabel('epoch')\n",
    "plt.legend(['train', 'val'], loc='upper left')\n",
    "plt.show()"
   ]
  },
  {
   "cell_type": "markdown",
   "id": "4138ad8b",
   "metadata": {},
   "source": [
    "# BIGRU - BILSTM forward / backforward"
   ]
  },
  {
   "cell_type": "code",
   "execution_count": 33,
   "id": "95047e62",
   "metadata": {},
   "outputs": [
    {
     "name": "stdout",
     "output_type": "stream",
     "text": [
      "Epoch 1/10\n",
      "43/43 [==============================] - 234s 5s/step - loss: 2.4523 - f1: 0.0000e+00 - rec@prec: 0.0000e+00 - val_loss: 2.3017 - val_f1: 0.0000e+00 - val_rec@prec: 0.0104\n",
      "Epoch 2/10\n",
      "43/43 [==============================] - 241s 6s/step - loss: 2.1733 - f1: 0.0200 - rec@prec: 4.2717e-04 - val_loss: 1.9281 - val_f1: 6.6600e-04 - val_rec@prec: 0.0077\n",
      "Epoch 3/10\n",
      "43/43 [==============================] - 245s 6s/step - loss: 1.7212 - f1: 0.1502 - rec@prec: 0.0833 - val_loss: 1.6569 - val_f1: 0.2118 - val_rec@prec: 0.1380\n",
      "Epoch 4/10\n",
      "43/43 [==============================] - 254s 6s/step - loss: 1.4240 - f1: 0.4112 - rec@prec: 0.2474 - val_loss: 1.4187 - val_f1: 0.5427 - val_rec@prec: 0.2809\n",
      "Epoch 5/10\n",
      "43/43 [==============================] - 256s 6s/step - loss: 1.1613 - f1: 0.5972 - rec@prec: 0.4531 - val_loss: 1.2611 - val_f1: 0.6000 - val_rec@prec: 0.4166\n",
      "Epoch 6/10\n",
      "43/43 [==============================] - 257s 6s/step - loss: 0.9451 - f1: 0.6984 - rec@prec: 0.6316 - val_loss: 1.1476 - val_f1: 0.6636 - val_rec@prec: 0.5271\n",
      "Epoch 7/10\n",
      "43/43 [==============================] - 256s 6s/step - loss: 0.7724 - f1: 0.7626 - rec@prec: 0.7512 - val_loss: 1.1457 - val_f1: 0.6789 - val_rec@prec: 0.5568\n",
      "Epoch 8/10\n",
      "43/43 [==============================] - 247s 6s/step - loss: 0.6654 - f1: 0.8014 - rec@prec: 0.8135 - val_loss: 1.1228 - val_f1: 0.6907 - val_rec@prec: 0.5730\n",
      "Epoch 9/10\n",
      "43/43 [==============================] - 255s 6s/step - loss: 0.5774 - f1: 0.8317 - rec@prec: 0.8572 - val_loss: 1.2120 - val_f1: 0.6677 - val_rec@prec: 0.5464\n",
      "Epoch 10/10\n",
      "43/43 [==============================] - 256s 6s/step - loss: 0.5103 - f1: 0.8516 - rec@prec: 0.8857 - val_loss: 1.1815 - val_f1: 0.7046 - val_rec@prec: 0.5888\n",
      "dict_keys(['loss', 'f1', 'rec@prec', 'val_loss', 'val_f1', 'val_rec@prec'])\n"
     ]
    },
    {
     "data": {
      "image/png": "[encoded data removed]",
      "text/plain": [
       "<Figure size 432x288 with 1 Axes>"
      ]
     },
     "metadata": {
      "needs_background": "light"
     },
     "output_type": "display_data"
    }
   ],
   "source": [
    "\n",
    "\n",
    "inputs = tf.keras.layers.Input(shape=(MAX_LEN,))\n",
    "embeddings = tf.keras.layers.Embedding(input_dim=len(word2id), output_dim=30)(inputs, )\n",
    "\n",
    "bilstm_forward =  tf.keras.layers.Bidirectional(tf.keras.layers.LSTM(128, return_sequences=False))(embeddings)\n",
    "bigru_backward =  tf.keras.layers.Bidirectional(tf.keras.layers.GRU(128, return_sequences=False, go_backwards=True))(embeddings)\n",
    "\n",
    "hidden = tf.keras.layers.concatenate([bilstm_forward, bigru_backward])\n",
    "\n",
    "outputs = tf.keras.layers.Dense(len(label2id), activation='softmax')(hidden)\n",
    "\n",
    "model = tf.keras.Model(inputs=inputs, outputs=outputs)\n",
    "optimizer = tf.keras.optimizers.Adam(learning_rate=0.001)\n",
    "model.compile(optimizer=optimizer,\n",
    "              loss='categorical_crossentropy',\n",
    "              metrics=[f1, tf.keras.metrics.RecallAtPrecision(0.8, name='rec@prec')])\n",
    "\n",
    "model.fit(X_train, y_train, \n",
    "          validation_data=(X_valid, y_valid),\n",
    "          batch_size=1000,\n",
    "         epochs=10)\n",
    "\n",
    "print(model.history.history.keys())\n",
    "# summarize history for accuracy\n",
    "plt.plot(model.history.history['rec@prec'])\n",
    "plt.plot(model.history.history['val_rec@prec'])\n",
    "plt.title('model f1')\n",
    "plt.ylabel('f1')\n",
    "plt.xlabel('epoch')\n",
    "plt.legend(['train', 'val'], loc='upper left')\n",
    "plt.show()"
   ]
  },
  {
   "cell_type": "markdown",
   "id": "8aa4b59f",
   "metadata": {},
   "source": [
    "# LSTM - GRU - BILSTM - BIGRU - GRU - LSTM"
   ]
  },
  {
   "cell_type": "code",
   "execution_count": 29,
   "id": "970677e7",
   "metadata": {},
   "outputs": [
    {
     "name": "stdout",
     "output_type": "stream",
     "text": [
      "Epoch 1/10\n",
      "43/43 [==============================] - 586s 13s/step - loss: 2.3992 - f1: 0.0000e+00 - rec@prec: 0.0000e+00 - val_loss: 2.3196 - val_f1: 0.0000e+00 - val_rec@prec: 0.0000e+00\n",
      "Epoch 2/10\n",
      "43/43 [==============================] - 536s 12s/step - loss: 2.1927 - f1: 0.0105 - rec@prec: 0.0000e+00 - val_loss: 1.9137 - val_f1: 0.1681 - val_rec@prec: 0.0081\n",
      "Epoch 3/10\n",
      "43/43 [==============================] - 555s 13s/step - loss: 1.7604 - f1: 0.2066 - rec@prec: 0.0673 - val_loss: 1.7426 - val_f1: 0.2129 - val_rec@prec: 0.1384\n",
      "Epoch 4/10\n",
      "43/43 [==============================] - 529s 12s/step - loss: 1.5632 - f1: 0.3203 - rec@prec: 0.1641 - val_loss: 1.6976 - val_f1: 0.3218 - val_rec@prec: 0.1830\n",
      "Epoch 5/10\n",
      "43/43 [==============================] - 5462s 130s/step - loss: 1.4717 - f1: 0.4040 - rec@prec: 0.2009 - val_loss: 1.6559 - val_f1: 0.3928 - val_rec@prec: 0.1880\n",
      "Epoch 6/10\n",
      "43/43 [==============================] - 15910s 378s/step - loss: 1.4608 - f1: 0.4311 - rec@prec: 0.1957 - val_loss: 1.6343 - val_f1: 0.4034 - val_rec@prec: 0.1921\n",
      "Epoch 7/10\n",
      "43/43 [==============================] - 8735s 207s/step - loss: 1.3620 - f1: 0.4736 - rec@prec: 0.2625 - val_loss: 1.6124 - val_f1: 0.4346 - val_rec@prec: 0.1551\n",
      "Epoch 8/10\n",
      "43/43 [==============================] - 8738s 207s/step - loss: 1.2697 - f1: 0.5337 - rec@prec: 0.3293 - val_loss: 1.5759 - val_f1: 0.4822 - val_rec@prec: 0.2020\n",
      "Epoch 9/10\n",
      "43/43 [==============================] - 781s 18s/step - loss: 1.1411 - f1: 0.6109 - rec@prec: 0.4572 - val_loss: 1.5412 - val_f1: 0.5469 - val_rec@prec: 0.2890\n",
      "Epoch 10/10\n",
      "43/43 [==============================] - 527s 12s/step - loss: 1.0112 - f1: 0.6749 - rec@prec: 0.5804 - val_loss: 1.4794 - val_f1: 0.5806 - val_rec@prec: 0.3278\n",
      "dict_keys(['loss', 'f1', 'rec@prec', 'val_loss', 'val_f1', 'val_rec@prec'])\n"
     ]
    },
    {
     "data": {
      "image/png": "[encoded data removed]",
      "text/plain": [
       "<Figure size 432x288 with 1 Axes>"
      ]
     },
     "metadata": {
      "needs_background": "light"
     },
     "output_type": "display_data"
    }
   ],
   "source": [
    "inputs = tf.keras.layers.Input(shape=(MAX_LEN,))\n",
    "embeddings = tf.keras.layers.Embedding(input_dim=len(word2id), output_dim=30)(inputs, )\n",
    "\n",
    "lstm_1 = tf.keras.layers.LSTM(128, return_sequences=True)(embeddings)\n",
    "gru_1 = tf.keras.layers.GRU(128, return_sequences=True)(lstm_1)\n",
    "bigru_1 = tf.keras.layers.Bidirectional(tf.keras.layers.LSTM(128, return_sequences=True))(gru_1)\n",
    "bilstm_1 = tf.keras.layers.Bidirectional(tf.keras.layers.GRU(128, return_sequences=True))(bigru_1)\n",
    "gru_2 = tf.keras.layers.GRU(128, return_sequences=True)(bilstm_1)\n",
    "lstm_2 = tf.keras.layers.LSTM(128, return_sequences=False)(gru_2)\n",
    "\n",
    "outputs = tf.keras.layers.Dense(len(label2id), activation='softmax')(lstm_2)\n",
    "\n",
    "model = tf.keras.Model(inputs=inputs, outputs=outputs)\n",
    "optimizer = tf.keras.optimizers.Adam(learning_rate=0.001)\n",
    "model.compile(optimizer=optimizer,\n",
    "              loss='categorical_crossentropy',\n",
    "              metrics=[f1, tf.keras.metrics.RecallAtPrecision(0.8, name='rec@prec')])\n",
    "\n",
    "model.fit(X_train, y_train, \n",
    "          validation_data=(X_valid, y_valid),\n",
    "          batch_size=1000,\n",
    "         epochs=10)\n",
    "\n",
    "print(model.history.history.keys())\n",
    "# summarize history for accuracy\n",
    "plt.plot(model.history.history['rec@prec'])\n",
    "plt.plot(model.history.history['val_rec@prec'])\n",
    "plt.title('model f1')\n",
    "plt.ylabel('f1')\n",
    "plt.xlabel('epoch')\n",
    "plt.legend(['train', 'val'], loc='upper left')\n",
    "plt.show()"
   ]
  },
  {
   "cell_type": "markdown",
   "id": "f1b5d3b7",
   "metadata": {},
   "source": [
    "# 50 GRU layers"
   ]
  },
  {
   "cell_type": "code",
   "execution_count": 166,
   "id": "e9478f63",
   "metadata": {},
   "outputs": [
    {
     "name": "stdout",
     "output_type": "stream",
     "text": [
      "Epoch 1/5\n"
     ]
    },
    {
     "ename": "ValueError",
     "evalue": "in user code:\n\n    File \"/Users/e.rykov/.local/lib/python3.8/site-packages/keras/engine/training.py\", line 878, in train_function  *\n        return step_function(self, iterator)\n    File \"/Users/e.rykov/.local/lib/python3.8/site-packages/keras/engine/training.py\", line 867, in step_function  **\n        outputs = model.distribute_strategy.run(run_step, args=(data,))\n    File \"/Users/e.rykov/.local/lib/python3.8/site-packages/keras/engine/training.py\", line 860, in run_step  **\n        outputs = model.train_step(data)\n    File \"/Users/e.rykov/.local/lib/python3.8/site-packages/keras/engine/training.py\", line 808, in train_step\n        y_pred = self(x, training=True)\n    File \"/Users/e.rykov/.local/lib/python3.8/site-packages/keras/utils/traceback_utils.py\", line 67, in error_handler\n        raise e.with_traceback(filtered_tb) from None\n    File \"/Users/e.rykov/.local/lib/python3.8/site-packages/keras/engine/input_spec.py\", line 263, in assert_input_compatibility\n        raise ValueError(f'Input {input_index} of layer \"{layer_name}\" is '\n\n    ValueError: Input 0 of layer \"model_25\" is incompatible with the layer: expected shape=(None, 54), found shape=(None, 200)\n",
     "output_type": "error",
     "traceback": [
      "\u001b[0;31m---------------------------------------------------------------------------\u001b[0m",
      "\u001b[0;31mValueError\u001b[0m                                Traceback (most recent call last)",
      "Input \u001b[0;32mIn [166]\u001b[0m, in \u001b[0;36m<module>\u001b[0;34m\u001b[0m\n\u001b[1;32m     12\u001b[0m optimizer \u001b[38;5;241m=\u001b[39m tf\u001b[38;5;241m.\u001b[39mkeras\u001b[38;5;241m.\u001b[39moptimizers\u001b[38;5;241m.\u001b[39mAdam(learning_rate\u001b[38;5;241m=\u001b[39m\u001b[38;5;241m0.001\u001b[39m)\n\u001b[1;32m     13\u001b[0m model\u001b[38;5;241m.\u001b[39mcompile(optimizer\u001b[38;5;241m=\u001b[39moptimizer,\n\u001b[1;32m     14\u001b[0m               loss\u001b[38;5;241m=\u001b[39m\u001b[38;5;124m'\u001b[39m\u001b[38;5;124mcategorical_crossentropy\u001b[39m\u001b[38;5;124m'\u001b[39m,\n\u001b[1;32m     15\u001b[0m               metrics\u001b[38;5;241m=\u001b[39m[f1, tf\u001b[38;5;241m.\u001b[39mkeras\u001b[38;5;241m.\u001b[39mmetrics\u001b[38;5;241m.\u001b[39mRecallAtPrecision(\u001b[38;5;241m0.8\u001b[39m, name\u001b[38;5;241m=\u001b[39m\u001b[38;5;124m'\u001b[39m\u001b[38;5;124mrec@prec\u001b[39m\u001b[38;5;124m'\u001b[39m)])\n\u001b[0;32m---> 17\u001b[0m \u001b[43mmodel\u001b[49m\u001b[38;5;241;43m.\u001b[39;49m\u001b[43mfit\u001b[49m\u001b[43m(\u001b[49m\u001b[43mX_train\u001b[49m\u001b[43m,\u001b[49m\u001b[43m \u001b[49m\u001b[43my_train\u001b[49m\u001b[43m,\u001b[49m\u001b[43m \u001b[49m\n\u001b[1;32m     18\u001b[0m \u001b[43m          \u001b[49m\u001b[43mvalidation_data\u001b[49m\u001b[38;5;241;43m=\u001b[39;49m\u001b[43m(\u001b[49m\u001b[43mX_valid\u001b[49m\u001b[43m,\u001b[49m\u001b[43m \u001b[49m\u001b[43my_valid\u001b[49m\u001b[43m)\u001b[49m\u001b[43m,\u001b[49m\n\u001b[1;32m     19\u001b[0m \u001b[43m          \u001b[49m\u001b[43mbatch_size\u001b[49m\u001b[38;5;241;43m=\u001b[39;49m\u001b[38;5;241;43m1000\u001b[39;49m\u001b[43m,\u001b[49m\n\u001b[1;32m     20\u001b[0m \u001b[43m         \u001b[49m\u001b[43mepochs\u001b[49m\u001b[38;5;241;43m=\u001b[39;49m\u001b[38;5;241;43m5\u001b[39;49m\u001b[43m)\u001b[49m\n\u001b[1;32m     22\u001b[0m \u001b[38;5;28mprint\u001b[39m(model\u001b[38;5;241m.\u001b[39mhistory\u001b[38;5;241m.\u001b[39mhistory\u001b[38;5;241m.\u001b[39mkeys())\n\u001b[1;32m     23\u001b[0m \u001b[38;5;66;03m# summarize history for accuracy\u001b[39;00m\n",
      "File \u001b[0;32m~/.local/lib/python3.8/site-packages/keras/utils/traceback_utils.py:67\u001b[0m, in \u001b[0;36mfilter_traceback.<locals>.error_handler\u001b[0;34m(*args, **kwargs)\u001b[0m\n\u001b[1;32m     65\u001b[0m \u001b[38;5;28;01mexcept\u001b[39;00m \u001b[38;5;167;01mException\u001b[39;00m \u001b[38;5;28;01mas\u001b[39;00m e:  \u001b[38;5;66;03m# pylint: disable=broad-except\u001b[39;00m\n\u001b[1;32m     66\u001b[0m   filtered_tb \u001b[38;5;241m=\u001b[39m _process_traceback_frames(e\u001b[38;5;241m.\u001b[39m__traceback__)\n\u001b[0;32m---> 67\u001b[0m   \u001b[38;5;28;01mraise\u001b[39;00m e\u001b[38;5;241m.\u001b[39mwith_traceback(filtered_tb) \u001b[38;5;28;01mfrom\u001b[39;00m \u001b[38;5;28mNone\u001b[39m\n\u001b[1;32m     68\u001b[0m \u001b[38;5;28;01mfinally\u001b[39;00m:\n\u001b[1;32m     69\u001b[0m   \u001b[38;5;28;01mdel\u001b[39;00m filtered_tb\n",
      "File \u001b[0;32m~/.local/lib/python3.8/site-packages/tensorflow/python/framework/func_graph.py:1129\u001b[0m, in \u001b[0;36mfunc_graph_from_py_func.<locals>.autograph_handler\u001b[0;34m(*args, **kwargs)\u001b[0m\n\u001b[1;32m   1127\u001b[0m \u001b[38;5;28;01mexcept\u001b[39;00m \u001b[38;5;167;01mException\u001b[39;00m \u001b[38;5;28;01mas\u001b[39;00m e:  \u001b[38;5;66;03m# pylint:disable=broad-except\u001b[39;00m\n\u001b[1;32m   1128\u001b[0m   \u001b[38;5;28;01mif\u001b[39;00m \u001b[38;5;28mhasattr\u001b[39m(e, \u001b[38;5;124m\"\u001b[39m\u001b[38;5;124mag_error_metadata\u001b[39m\u001b[38;5;124m\"\u001b[39m):\n\u001b[0;32m-> 1129\u001b[0m     \u001b[38;5;28;01mraise\u001b[39;00m e\u001b[38;5;241m.\u001b[39mag_error_metadata\u001b[38;5;241m.\u001b[39mto_exception(e)\n\u001b[1;32m   1130\u001b[0m   \u001b[38;5;28;01melse\u001b[39;00m:\n\u001b[1;32m   1131\u001b[0m     \u001b[38;5;28;01mraise\u001b[39;00m\n",
      "\u001b[0;31mValueError\u001b[0m: in user code:\n\n    File \"/Users/e.rykov/.local/lib/python3.8/site-packages/keras/engine/training.py\", line 878, in train_function  *\n        return step_function(self, iterator)\n    File \"/Users/e.rykov/.local/lib/python3.8/site-packages/keras/engine/training.py\", line 867, in step_function  **\n        outputs = model.distribute_strategy.run(run_step, args=(data,))\n    File \"/Users/e.rykov/.local/lib/python3.8/site-packages/keras/engine/training.py\", line 860, in run_step  **\n        outputs = model.train_step(data)\n    File \"/Users/e.rykov/.local/lib/python3.8/site-packages/keras/engine/training.py\", line 808, in train_step\n        y_pred = self(x, training=True)\n    File \"/Users/e.rykov/.local/lib/python3.8/site-packages/keras/utils/traceback_utils.py\", line 67, in error_handler\n        raise e.with_traceback(filtered_tb) from None\n    File \"/Users/e.rykov/.local/lib/python3.8/site-packages/keras/engine/input_spec.py\", line 263, in assert_input_compatibility\n        raise ValueError(f'Input {input_index} of layer \"{layer_name}\" is '\n\n    ValueError: Input 0 of layer \"model_25\" is incompatible with the layer: expected shape=(None, 54), found shape=(None, 200)\n"
     ]
    }
   ],
   "source": [
    "inputs = tf.keras.layers.Input(shape=(MAX_LEN,))\n",
    "embeddings = tf.keras.layers.Embedding(input_dim=len(word2id), output_dim=30)(inputs, )\n",
    "\n",
    "gru = tf.keras.layers.GRU(128, return_sequences=True)(embeddings)\n",
    "for i in range(48):\n",
    "    gru = tf.keras.layers.GRU(128, return_sequences=True)(gru)\n",
    "gru = tf.keras.layers.GRU(128, return_sequences=False)(gru)\n",
    "\n",
    "outputs = tf.keras.layers.Dense(len(label2id), activation='softmax')(gru)\n",
    "\n",
    "model = tf.keras.Model(inputs=inputs, outputs=outputs)\n",
    "optimizer = tf.keras.optimizers.Adam(learning_rate=0.001)\n",
    "model.compile(optimizer=optimizer,\n",
    "              loss='categorical_crossentropy',\n",
    "              metrics=[f1, tf.keras.metrics.RecallAtPrecision(0.8, name='rec@prec')])\n",
    "\n",
    "model.fit(X_train, y_train, \n",
    "          validation_data=(X_valid, y_valid),\n",
    "          batch_size=1000,\n",
    "         epochs=5)\n",
    "\n",
    "print(model.history.history.keys())\n",
    "# summarize history for accuracy\n",
    "plt.plot(model.history.history['rec@prec'])\n",
    "plt.plot(model.history.history['val_rec@prec'])\n",
    "plt.title('model f1')\n",
    "plt.ylabel('f1')\n",
    "plt.xlabel('epoch')\n",
    "plt.legend(['train', 'val'], loc='upper left')\n",
    "plt.show()"
   ]
  },
  {
   "cell_type": "markdown",
   "id": "47ac4cce",
   "metadata": {},
   "source": [
    "Лучший результат на BIGRU BILSTM backforward / forward"
   ]
  },
  {
   "cell_type": "markdown",
   "id": "ed5d6eea",
   "metadata": {},
   "source": [
    "## Задание 2 (6 баллов)\n"
   ]
  },
  {
   "cell_type": "markdown",
   "id": "5c2c07cf",
   "metadata": {},
   "source": [
    "На данных википедии (wikiann) обучите 2 модели:  \n",
    "1) модель в которой будут использованы предобученные эмбединги слов и несколько BILSTM слоев. \n",
    "1) модель в которой будут использованы предобученные эмбединги слов и несколько BIGRU слоев. \n",
    "\n",
    "Сравните качество по метрикам. Также придумайте несколько сложных примеров и проверьте, какие сущности определяет каждая из моделей."
   ]
  },
  {
   "cell_type": "code",
   "execution_count": 39,
   "id": "fb704b1b",
   "metadata": {},
   "outputs": [],
   "source": [
    "from datasets import load_dataset"
   ]
  },
  {
   "cell_type": "code",
   "execution_count": 42,
   "id": "24b4e4aa",
   "metadata": {},
   "outputs": [
    {
     "name": "stdout",
     "output_type": "stream",
     "text": [
      "Downloading and preparing dataset wikiann/ru (download: 223.17 MiB, generated: 9.87 MiB, post-processed: Unknown size, total: 233.04 MiB) to /Users/e.rykov/.cache/huggingface/datasets/wikiann/ru/1.1.0/4bfd4fe4468ab78bb6e096968f61fab7a888f44f9d3371c2f3fea7e74a5a354e...\n"
     ]
    },
    {
     "data": {
      "application/vnd.jupyter.widget-view+json": {
       "model_id": "75a0a526eb554c22b0f85547bd28ff23",
       "version_major": 2,
       "version_minor": 0
      },
      "text/plain": [
       "Downloading:   0%|          | 0.00/234M [00:00<?, ?B/s]"
      ]
     },
     "metadata": {},
     "output_type": "display_data"
    },
    {
     "data": {
      "application/vnd.jupyter.widget-view+json": {
       "model_id": "",
       "version_major": 2,
       "version_minor": 0
      },
      "text/plain": [
       "0 examples [00:00, ? examples/s]"
      ]
     },
     "metadata": {},
     "output_type": "display_data"
    },
    {
     "data": {
      "application/vnd.jupyter.widget-view+json": {
       "model_id": "",
       "version_major": 2,
       "version_minor": 0
      },
      "text/plain": [
       "0 examples [00:00, ? examples/s]"
      ]
     },
     "metadata": {},
     "output_type": "display_data"
    },
    {
     "data": {
      "application/vnd.jupyter.widget-view+json": {
       "model_id": "",
       "version_major": 2,
       "version_minor": 0
      },
      "text/plain": [
       "0 examples [00:00, ? examples/s]"
      ]
     },
     "metadata": {},
     "output_type": "display_data"
    },
    {
     "name": "stdout",
     "output_type": "stream",
     "text": [
      "Dataset wikiann downloaded and prepared to /Users/e.rykov/.cache/huggingface/datasets/wikiann/ru/1.1.0/4bfd4fe4468ab78bb6e096968f61fab7a888f44f9d3371c2f3fea7e74a5a354e. Subsequent calls will reuse this data.\n"
     ]
    },
    {
     "data": {
      "application/vnd.jupyter.widget-view+json": {
       "model_id": "303d1c0a9e3f43d38d2c9be57a265eaf",
       "version_major": 2,
       "version_minor": 0
      },
      "text/plain": [
       "  0%|          | 0/3 [00:00<?, ?it/s]"
      ]
     },
     "metadata": {},
     "output_type": "display_data"
    }
   ],
   "source": [
    "dataset = load_dataset(\"wikiann\", 'ru')"
   ]
  },
  {
   "cell_type": "code",
   "execution_count": 87,
   "id": "05bdb5fa",
   "metadata": {},
   "outputs": [],
   "source": [
    "# словарь\n",
    "vocab = Counter()\n",
    "\n",
    "for sent in dataset['train']['tokens']:\n",
    "    vocab.update([x.lower() for x in sent])\n",
    "    \n",
    "# индексируем слова\n",
    "word2id = {'PAD':0, 'UNK':1}\n",
    "\n",
    "for word in vocab:\n",
    "    word2id[word] = len(word2id)\n",
    "    \n",
    "id2word = {i:word for word, i in word2id.items()}"
   ]
  },
  {
   "cell_type": "code",
   "execution_count": 91,
   "id": "420dc1a2",
   "metadata": {},
   "outputs": [],
   "source": [
    "import gensim\n",
    "\n",
    "ft = gensim.models.fasttext.FastTextKeyedVectors.load('../../../213/model.model')"
   ]
  },
  {
   "cell_type": "code",
   "execution_count": 135,
   "id": "5c5f7793",
   "metadata": {},
   "outputs": [],
   "source": [
    "weight_matrix = np.zeros((len(word2id), 300))\n",
    "for word, i in word2id.items():\n",
    "    try:\n",
    "        embedding_vector = ft[word]\n",
    "        weight_matrix[i] = embedding_vector\n",
    "    except KeyError:\n",
    "        weight_matrix[i] = np.random.uniform(-5, 5, 300)"
   ]
  },
  {
   "cell_type": "code",
   "execution_count": 137,
   "id": "82d3b07d",
   "metadata": {},
   "outputs": [
    {
     "data": {
      "text/plain": [
       "numpy.ndarray"
      ]
     },
     "execution_count": 137,
     "metadata": {},
     "output_type": "execute_result"
    }
   ],
   "source": [
    "type(weight_matrix[0])"
   ]
  },
  {
   "cell_type": "code",
   "execution_count": 120,
   "id": "13349ba3",
   "metadata": {},
   "outputs": [],
   "source": [
    "# переводим тексты в последовательности индексов\n",
    "X = []\n",
    "\n",
    "for sent in dataset['train']['tokens']:\n",
    "    tokens = [w.lower() for w in sent]\n",
    "    ids = [word2id.get(token, 1) for token in tokens]\n",
    "    X.append(ids)\n",
    "\n",
    "# переводим тексты в последовательности индексов\n",
    "X_test = []\n",
    "\n",
    "for sent in dataset['test']['tokens']:\n",
    "    tokens = [w.lower() for w in sent]\n",
    "    ids = [word2id.get(token, 1) for token in tokens]\n",
    "    X_test.append(ids)"
   ]
  },
  {
   "cell_type": "code",
   "execution_count": 121,
   "id": "388e2715",
   "metadata": {},
   "outputs": [],
   "source": [
    "MAX_LEN = max(len(x) for x in X)\n",
    "\n",
    "# паддинг\n",
    "X = tf.keras.preprocessing.sequence.pad_sequences(X, maxlen=MAX_LEN, padding='post')\n",
    "X_test = tf.keras.preprocessing.sequence.pad_sequences(X_test, maxlen=MAX_LEN, padding='post')"
   ]
  },
  {
   "cell_type": "code",
   "execution_count": 122,
   "id": "072312e8",
   "metadata": {},
   "outputs": [],
   "source": [
    "id2labels = {0:'O', 1:'B-PER', 2:'I-PER', 3:'B-ORG', 4:'I-ORG', 5: 'B-LOC', 6:'I-LOC', 7:'PAD'}\n",
    "label2id = {v:k for k,v in id2labels.items()} "
   ]
  },
  {
   "cell_type": "code",
   "execution_count": 123,
   "id": "6fcfc5e4",
   "metadata": {},
   "outputs": [],
   "source": [
    "y = tf.keras.preprocessing.sequence.pad_sequences(dataset['train']['ner_tags'], value=7,\n",
    "                                                  maxlen=MAX_LEN,  padding='post')\n",
    "y_test = tf.keras.preprocessing.sequence.pad_sequences(dataset['test']['ner_tags'], value=7,\n",
    "                                                       maxlen=MAX_LEN,  padding='post')"
   ]
  },
  {
   "cell_type": "code",
   "execution_count": 124,
   "id": "abe7c3f9",
   "metadata": {},
   "outputs": [
    {
     "data": {
      "text/plain": [
       "54"
      ]
     },
     "execution_count": 124,
     "metadata": {},
     "output_type": "execute_result"
    }
   ],
   "source": [
    "MAX_LEN"
   ]
  },
  {
   "cell_type": "code",
   "execution_count": 125,
   "id": "72f392c9",
   "metadata": {},
   "outputs": [
    {
     "data": {
      "text/plain": [
       "((20000, 54), (10000, 54))"
      ]
     },
     "execution_count": 125,
     "metadata": {},
     "output_type": "execute_result"
    }
   ],
   "source": [
    "X.shape, X_test.shape"
   ]
  },
  {
   "cell_type": "code",
   "execution_count": 126,
   "id": "4d237e71",
   "metadata": {},
   "outputs": [
    {
     "data": {
      "text/plain": [
       "((20000, 54), (10000, 54))"
      ]
     },
     "execution_count": 126,
     "metadata": {},
     "output_type": "execute_result"
    }
   ],
   "source": [
    "y.shape, y_test.shape"
   ]
  },
  {
   "cell_type": "code",
   "execution_count": 127,
   "id": "f327b2cf",
   "metadata": {},
   "outputs": [
    {
     "data": {
      "text/plain": [
       "154923"
      ]
     },
     "execution_count": 127,
     "metadata": {},
     "output_type": "execute_result"
    }
   ],
   "source": [
    "len(ft.vectors)"
   ]
  },
  {
   "cell_type": "code",
   "execution_count": 152,
   "id": "4a42f90c",
   "metadata": {},
   "outputs": [],
   "source": [
    "import re\n",
    "\n",
    "def tokenize(text, word2id):\n",
    "    # токенизирует и переводит в индексы\n",
    "    tokens = re.findall('\\w+|[^\\w\\s]+', text)\n",
    "    ids = [word2id.get(token.lower(), 1) for token in tokens]\n",
    "    return tokens, ids\n",
    "\n",
    "def pred2tags(pred, id2label, length):\n",
    "    # декодирует индексы в части речи\n",
    "    # length нужно чтобы откидывать паддинги или некорректные предсказания\n",
    "    pred = pred.argmax(2)[0, :length]\n",
    "    labels = [id2label[l] for l in pred]\n",
    "    return labels\n",
    "\n",
    "def label_seq(text, word2id, id2label, max_len, model):\n",
    "    tokens, ids = tokenize(text, word2id)\n",
    "    pred = model.predict(tf.keras.preprocessing.sequence.pad_sequences([ids], \n",
    "                                                                       maxlen=max_len, \n",
    "                                                                       padding='post'))\n",
    "    labels = pred2tags(pred, id2label, len(ids))\n",
    "    \n",
    "    return list(zip(tokens, labels))"
   ]
  },
  {
   "cell_type": "code",
   "execution_count": 150,
   "id": "3541f5a7",
   "metadata": {},
   "outputs": [
    {
     "name": "stdout",
     "output_type": "stream",
     "text": [
      "Epoch 1/5\n",
      "157/157 [==============================] - 102s 591ms/step - loss: 0.1786 - accuracy: 0.9432 - val_loss: 0.1235 - val_accuracy: 0.9600\n",
      "Epoch 2/5\n",
      "157/157 [==============================] - 109s 696ms/step - loss: 0.0730 - accuracy: 0.9762 - val_loss: 0.0931 - val_accuracy: 0.9740\n",
      "Epoch 3/5\n",
      "157/157 [==============================] - 108s 689ms/step - loss: 0.0477 - accuracy: 0.9849 - val_loss: 0.0976 - val_accuracy: 0.9750\n",
      "Epoch 4/5\n",
      "157/157 [==============================] - 106s 676ms/step - loss: 0.0404 - accuracy: 0.9872 - val_loss: 0.0917 - val_accuracy: 0.9773\n",
      "Epoch 5/5\n",
      "157/157 [==============================] - 96s 611ms/step - loss: 0.0359 - accuracy: 0.9887 - val_loss: 0.0901 - val_accuracy: 0.9762\n"
     ]
    },
    {
     "data": {
      "image/png": "[encoded data removed]",
      "text/plain": [
       "<Figure size 432x288 with 1 Axes>"
      ]
     },
     "metadata": {
      "needs_background": "light"
     },
     "output_type": "display_data"
    }
   ],
   "source": [
    "inputs = tf.keras.layers.Input(shape=(MAX_LEN,)) \n",
    "\n",
    "embeddings = tf.keras.layers.Embedding(len(word2id),\n",
    "                        300,\n",
    "                        weights=[weight_matrix],\n",
    "                        input_length=MAX_LEN,\n",
    "                        trainable=False)(inputs)\n",
    "\n",
    "lstm_1 = tf.keras.layers.Bidirectional(tf.keras.layers.LSTM(128, return_sequences=True))(embeddings)\n",
    "lstm_2 = tf.keras.layers.Bidirectional(tf.keras.layers.LSTM(128, return_sequences=True))(lstm_1)\n",
    "lstm_3 = tf.keras.layers.Bidirectional(tf.keras.layers.LSTM(128, return_sequences=False))(lstm_2)\n",
    "\n",
    "outputs = tf.keras.layers.Dense(len(label2id), activation='softmax')(lstm_3)\n",
    "\n",
    "model = tf.keras.Model(inputs=inputs, outputs=outputs)\n",
    "model.compile(optimizer='adam',\n",
    "              loss='sparse_categorical_crossentropy', \n",
    "             metrics=['accuracy'])\n",
    "\n",
    "model.fit(X, y, \n",
    "          validation_data=(X_test, y_test),\n",
    "          batch_size=128,\n",
    "         epochs=5)\n",
    "\n",
    "plt.plot(model.history.history['accuracy'])\n",
    "plt.plot(model.history.history['val_accuracy'])\n",
    "plt.title('model accuracy')\n",
    "plt.ylabel('accuracy')\n",
    "plt.xlabel('epoch')\n",
    "plt.legend(['train', 'val'], loc='upper left')\n",
    "plt.show()"
   ]
  },
  {
   "cell_type": "code",
   "execution_count": 160,
   "id": "88fccb07",
   "metadata": {},
   "outputs": [
    {
     "data": {
      "text/plain": [
       "[('Завтра', 'O'),\n",
       " ('Маша', 'B-LOC'),\n",
       " ('Василькина', 'O'),\n",
       " ('пойдет', 'O'),\n",
       " ('на', 'O'),\n",
       " ('пару', 'O'),\n",
       " ('в', 'O'),\n",
       " ('ВШЭ', 'B-ORG'),\n",
       " ('.', 'O'),\n",
       " ('Университет', 'I-ORG'),\n",
       " ('\"', 'O'),\n",
       " ('вышка', 'O'),\n",
       " ('\"', 'O'),\n",
       " ('располагается', 'O'),\n",
       " ('на', 'O'),\n",
       " ('Мясницкой', 'O'),\n",
       " ('улице', 'O'),\n",
       " ('.', 'O')]"
      ]
     },
     "execution_count": 160,
     "metadata": {},
     "output_type": "execute_result"
    }
   ],
   "source": [
    "label_seq('Завтра Маша Василькина пойдет на пару в ВШЭ. Университет \"вышка\" располагается на Мясницкой улице.', word2id, id2labels, MAX_LEN, model)"
   ]
  },
  {
   "cell_type": "code",
   "execution_count": null,
   "id": "0d13e4c6",
   "metadata": {},
   "outputs": [],
   "source": []
  },
  {
   "cell_type": "code",
   "execution_count": 162,
   "id": "f47e61ef",
   "metadata": {},
   "outputs": [
    {
     "name": "stdout",
     "output_type": "stream",
     "text": [
      "Epoch 1/5\n",
      "157/157 [==============================] - 80s 473ms/step - loss: 0.1360 - accuracy: 0.9546 - val_loss: 0.1169 - val_accuracy: 0.9648\n",
      "Epoch 2/5\n",
      "157/157 [==============================] - 75s 477ms/step - loss: 0.0505 - accuracy: 0.9837 - val_loss: 0.1161 - val_accuracy: 0.9675\n",
      "Epoch 3/5\n",
      "157/157 [==============================] - 85s 540ms/step - loss: 0.0408 - accuracy: 0.9869 - val_loss: 0.1186 - val_accuracy: 0.9686\n",
      "Epoch 4/5\n",
      "157/157 [==============================] - 87s 552ms/step - loss: 0.0358 - accuracy: 0.9886 - val_loss: 0.1231 - val_accuracy: 0.9676\n",
      "Epoch 5/5\n",
      "157/157 [==============================] - 87s 557ms/step - loss: 0.0316 - accuracy: 0.9899 - val_loss: 0.1233 - val_accuracy: 0.9674\n"
     ]
    },
    {
     "data": {
      "image/png": "[encoded data removed]",
      "text/plain": [
       "<Figure size 432x288 with 1 Axes>"
      ]
     },
     "metadata": {
      "needs_background": "light"
     },
     "output_type": "display_data"
    }
   ],
   "source": [
    "inputs = tf.keras.layers.Input(shape=(MAX_LEN,)) \n",
    "embeddings = tf.keras.layers.Embedding(len(word2id),\n",
    "                        300,\n",
    "                        weights=[weight_matrix],\n",
    "                        input_length=MAX_LEN,\n",
    "                        trainable=False)(inputs)\n",
    "\n",
    "gru_1 = tf.keras.layers.Bidirectional(tf.keras.layers.GRU(128, return_sequences=True))(embeddings)\n",
    "gru_2 = tf.keras.layers.Bidirectional(tf.keras.layers.GRU(128, return_sequences=True))(gru_1)\n",
    "gru_3 = tf.keras.layers.Bidirectional(tf.keras.layers.GRU(128, return_sequences=True))(gru_2)\n",
    "\n",
    "outputs = tf.keras.layers.Dense(len(label2id), activation='softmax')(gru_3)\n",
    "\n",
    "model = tf.keras.Model(inputs=inputs, outputs=outputs)\n",
    "model.compile(optimizer='adam',\n",
    "              loss='sparse_categorical_crossentropy', \n",
    "             metrics=['accuracy'])\n",
    "\n",
    "model.fit(X, y, \n",
    "          validation_data=(X_test, y_test),\n",
    "          batch_size=128,\n",
    "         epochs=5)\n",
    "\n",
    "plt.plot(model.history.history['accuracy'])\n",
    "plt.plot(model.history.history['val_accuracy'])\n",
    "plt.title('model accuracy')\n",
    "plt.ylabel('accuracy')\n",
    "plt.xlabel('epoch')\n",
    "plt.legend(['train', 'val'], loc='upper left')\n",
    "plt.show()"
   ]
  },
  {
   "cell_type": "code",
   "execution_count": 163,
   "id": "46effb12",
   "metadata": {},
   "outputs": [
    {
     "data": {
      "text/plain": [
       "[('Завтра', 'I-PER'),\n",
       " ('Маша', 'B-LOC'),\n",
       " ('Василькина', 'PAD'),\n",
       " ('пойдет', 'PAD'),\n",
       " ('на', 'O'),\n",
       " ('пару', 'O'),\n",
       " ('в', 'O'),\n",
       " ('ВШЭ', 'B-ORG'),\n",
       " ('.', 'I-ORG'),\n",
       " ('Университет', 'I-ORG'),\n",
       " ('\"', 'O'),\n",
       " ('вышка', 'O'),\n",
       " ('\"', 'O'),\n",
       " ('располагается', 'O'),\n",
       " ('на', 'O'),\n",
       " ('Мясницкой', 'O'),\n",
       " ('улице', 'O'),\n",
       " ('.', 'O')]"
      ]
     },
     "execution_count": 163,
     "metadata": {},
     "output_type": "execute_result"
    }
   ],
   "source": [
    "label_seq('Завтра Маша Василькина пойдет на пару в ВШЭ. Университет \"вышка\" располагается на Мясницкой улице.', word2id, id2labels, MAX_LEN, model)"
   ]
  },
  {
   "cell_type": "markdown",
   "id": "6c7ef2cd",
   "metadata": {},
   "source": [
    "В качестве предобученных эмбеддингов взял FastText из RusVectores. Accuracy выше у первой модели, обе делают ошибку в токенах \"завтра\", \"Маша\", \"Василькина\", \"Мясницкая\", но распознают \"ВШЭ\""
   ]
  },
  {
   "cell_type": "code",
   "execution_count": null,
   "id": "2a6c6bb9",
   "metadata": {},
   "outputs": [],
   "source": []
  }
 ],
 "metadata": {
  "kernelspec": {
   "display_name": "Python 3",
   "language": "python",
   "name": "python3"
  },
  "language_info": {
   "codemirror_mode": {
    "name": "ipython",
    "version": 3
   },
   "file_extension": ".py",
   "mimetype": "text/x-python",
   "name": "python",
   "nbconvert_exporter": "python",
   "pygments_lexer": "ipython3",
   "version": "3.8.8"
  }
 },
 "nbformat": 4,
 "nbformat_minor": 5
}
