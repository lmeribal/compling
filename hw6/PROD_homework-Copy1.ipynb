{
 "cells": [
  {
   "cell_type": "markdown",
   "metadata": {},
   "source": [
    "#### Важное требование ко всей домашке в целом: в jupyter ноутбуке не должно был лишнего кода (т.е. если вы взяли за основу семинар, не забудьте удалить все лишнее)"
   ]
  },
  {
   "cell_type": "markdown",
   "metadata": {},
   "source": [
    "# Задание 1 (3 балла)"
   ]
  },
  {
   "cell_type": "markdown",
   "metadata": {},
   "source": [
    "Обучите word2vec модели с негативным семплированием (cbow и skip-gram) с помощью tensorflow аналогично тому, как это было сделано в семинаре. Вам нужно изменить следующие пункты: \n",
    "1) добавьте лемматизацию в предобработку (любым способом)  \n",
    "2) измените размер окна на 6 для cbow и 12 для skip gram (обратите внимание, что размер окна = #слов слева + #слов справа, в gen_batches в семинаре window не так используется)  \n",
    "3) измените часть с np.random.randint(vocab_size) так, чтобы случайные негативные примеры выбирались обратно пропорционально частотностям слов (частотные должны выбираться реже, а редкие чаще)\n",
    "\n",
    "Выберете несколько не похожих по смыслу слов, и протестируйте полученные эмбединги (найдите ближайшие слова и оцените правильность, как в семинаре)"
   ]
  },
  {
   "cell_type": "code",
   "execution_count": 1,
   "metadata": {},
   "outputs": [],
   "source": [
    "import tensorflow as tf\n",
    "import numpy as np\n",
    "import pandas as pd\n",
    "from string import punctuation\n",
    "from sklearn.model_selection import train_test_split\n",
    "from collections import Counter\n",
    "import matplotlib.pyplot as plt\n",
    "from sklearn.decomposition import TruncatedSVD\n",
    "from sklearn.feature_extraction.text import CountVectorizer\n",
    "from sklearn.metrics.pairwise import cosine_distances\n",
    "\n",
    "from IPython.display import Image\n",
    "from IPython.core.display import HTML \n",
    "%matplotlib inline"
   ]
  },
  {
   "cell_type": "code",
   "execution_count": 41,
   "metadata": {},
   "outputs": [],
   "source": [
    "# в нашем корпусе 20к текстов\n",
    "wiki = open('wiki_data.txt').read().split('\\n')"
   ]
  },
  {
   "cell_type": "code",
   "execution_count": 3,
   "metadata": {},
   "outputs": [],
   "source": [
    "from pymorphy2 import MorphAnalyzer\n",
    "\n",
    "morph = MorphAnalyzer()\n",
    "\n",
    "def return_lemma(token):\n",
    "    return morph.parse(token)[0].normal_form\n",
    "\n",
    "def preprocess(text):\n",
    "    tokens = text.lower().split()\n",
    "    tokens = [token.strip(punctuation) for token in tokens]\n",
    "    tokens = [return_lemma(token) for token in tokens]\n",
    "    return tokens"
   ]
  },
  {
   "cell_type": "code",
   "execution_count": 441,
   "metadata": {},
   "outputs": [],
   "source": [
    "vocab = Counter()\n",
    "\n",
    "for text in wiki:\n",
    "    vocab.update(preprocess(text))"
   ]
  },
  {
   "cell_type": "code",
   "execution_count": 442,
   "metadata": {},
   "outputs": [],
   "source": [
    "filtered_vocab = set()\n",
    "\n",
    "for word in vocab:\n",
    "    if vocab[word] > 30:\n",
    "        filtered_vocab.add(word)"
   ]
  },
  {
   "cell_type": "code",
   "execution_count": 443,
   "metadata": {},
   "outputs": [
    {
     "data": {
      "text/plain": [
       "11987"
      ]
     },
     "execution_count": 443,
     "metadata": {},
     "output_type": "execute_result"
    }
   ],
   "source": [
    "len(filtered_vocab)"
   ]
  },
  {
   "cell_type": "code",
   "execution_count": 444,
   "metadata": {},
   "outputs": [],
   "source": [
    "word2id = { 'PAD':0}\n",
    "\n",
    "for word in filtered_vocab:\n",
    "    word2id[word] = len(word2id)"
   ]
  },
  {
   "cell_type": "code",
   "execution_count": 445,
   "metadata": {},
   "outputs": [],
   "source": [
    "id2word = {i:word for word, i in word2id.items()}"
   ]
  },
  {
   "cell_type": "code",
   "execution_count": 446,
   "metadata": {},
   "outputs": [],
   "source": [
    "sentences = []\n",
    "for text in wiki:\n",
    "    tokens = preprocess(text)\n",
    "    ids = [word2id[token] for token in tokens if token in word2id]\n",
    "    sentences.append(ids)"
   ]
  },
  {
   "cell_type": "markdown",
   "metadata": {},
   "source": [
    "## SkipGram"
   ]
  },
  {
   "cell_type": "code",
   "execution_count": 447,
   "metadata": {},
   "outputs": [],
   "source": [
    "# skip gram\n",
    "X = []\n",
    "y = []\n",
    "\n",
    "window = 12\n",
    "for sent in sentences[:1000]:\n",
    "    for i in range(len(sent)-1):\n",
    "        word = sent[i] # target\n",
    "        context = sent[max(0, i-window):i] + sent[i+1:i+window] \n",
    "\n",
    "        for context_word in context:\n",
    "            X.append(word)\n",
    "            y.append(context_word)"
   ]
  },
  {
   "cell_type": "code",
   "execution_count": 448,
   "metadata": {},
   "outputs": [],
   "source": [
    "from random import random\n",
    "from bisect import bisect\n",
    "\n",
    "def weighted_choice(values, weights):\n",
    "    total = 0\n",
    "    cum_weights = []\n",
    "    for w in weights:\n",
    "        total += w\n",
    "        cum_weights.append(total)\n",
    "    x = random() * total\n",
    "    i = bisect(cum_weights, x)\n",
    "    return values[i]"
   ]
  },
  {
   "cell_type": "code",
   "execution_count": 449,
   "metadata": {},
   "outputs": [
    {
     "data": {
      "text/plain": [
       "2910"
      ]
     },
     "execution_count": 449,
     "metadata": {},
     "output_type": "execute_result"
    }
   ],
   "source": [
    "weighted_choice(list(probs_id.keys()), inverse_probability)"
   ]
  },
  {
   "cell_type": "code",
   "execution_count": 450,
   "metadata": {},
   "outputs": [],
   "source": [
    "# skip gram\n",
    "def gen_batches_sg(sentences, probs_id, inverse_probability, window = 5, batch_size=1000):\n",
    "    while True:\n",
    "        X_target = []\n",
    "        X_context = []\n",
    "        y = []\n",
    "\n",
    "        for sent in sentences:\n",
    "            for i in range(len(sent)-1):\n",
    "                word = sent[i]\n",
    "                context = sent[max(0, i-window):i] + sent[i+1:i+window]\n",
    "                for context_word in context:\n",
    "                    X_target.append(word)\n",
    "                    X_context.append(context_word)\n",
    "                    y.append(1)\n",
    "                    \n",
    "                    X_target.append(word)\n",
    "#                     X_context.append(np.random.choice(list(probs_id.keys()), p=list(inverse_probability)))\n",
    "                    X_context.append(weighted_choice(list(probs_id.keys()), inverse_probability))\n",
    "                    y.append(0)\n",
    "                    \n",
    "                    if len(X_target) >= batch_size:\n",
    "                        X_target = np.array(X_target)\n",
    "                        X_context = np.array(X_context)\n",
    "                        y = np.array(y)\n",
    "                        yield ((X_target, X_context), y)\n",
    "                        X_target = []\n",
    "                        X_context = []\n",
    "                        y = []"
   ]
  },
  {
   "cell_type": "code",
   "execution_count": 451,
   "metadata": {},
   "outputs": [],
   "source": [
    "probs = dict()\n",
    "summa = 0\n",
    "for el in word2id.keys():\n",
    "    summa += vocab[el]\n",
    "for el in word2id.keys():\n",
    "    probs[el] = (vocab[el] / summa)"
   ]
  },
  {
   "cell_type": "code",
   "execution_count": 452,
   "metadata": {},
   "outputs": [],
   "source": [
    "probs_id = dict()\n",
    "for el in id2word.keys():\n",
    "    probs_id[el] = probs[id2word[el]]"
   ]
  },
  {
   "cell_type": "code",
   "execution_count": 453,
   "metadata": {},
   "outputs": [],
   "source": [
    "inverse_probability = [(1-x) for x in probs_id.values()]\n",
    "inverse_probability = [x/sum(inverse_probability) for x in inverse_probability]"
   ]
  },
  {
   "cell_type": "code",
   "execution_count": 454,
   "metadata": {},
   "outputs": [],
   "source": [
    "X_train, X_valid, y_train, y_valid = train_test_split(X, y, test_size=0.05)"
   ]
  },
  {
   "cell_type": "code",
   "execution_count": 455,
   "metadata": {},
   "outputs": [],
   "source": [
    "inputs_target = tf.keras.layers.Input(shape=(1,))\n",
    "inputs_context = tf.keras.layers.Input(shape=(1,))\n",
    "\n",
    "\n",
    "embeddings_target = tf.keras.layers.Embedding(input_dim=len(word2id), output_dim=300)(inputs_target, )\n",
    "embeddings_context = tf.keras.layers.Embedding(input_dim=len(word2id), output_dim=300)(inputs_context, )\n",
    "\n",
    "target = tf.keras.layers.Flatten()(embeddings_target)\n",
    "context = tf.keras.layers.Flatten()(embeddings_context)\n",
    "\n",
    "dot = tf.keras.layers.Dot(1)([target, context])\n",
    "outputs = tf.keras.layers.Activation(activation='sigmoid')(dot)\n",
    "\n",
    "model = tf.keras.Model(inputs=[inputs_target, inputs_context], \n",
    "                       outputs=outputs)\n",
    "optimizer = tf.keras.optimizers.Adam(learning_rate=0.001)\n",
    "model.compile(optimizer=optimizer,\n",
    "              loss='binary_crossentropy',\n",
    "              metrics=['accuracy'])"
   ]
  },
  {
   "cell_type": "code",
   "execution_count": null,
   "metadata": {},
   "outputs": [],
   "source": [
    "model.fit(gen_batches_sg(sentences[:10000], probs_id=probs_id, inverse_probability=inverse_probability, window=5),\n",
    "          validation_data=gen_batches_sg(sentences[10000:], probs_id=probs_id, inverse_probability=inverse_probability, window=5),\n",
    "          batch_size=1000,\n",
    "          steps_per_epoch=5000,\n",
    "          validation_steps=30,\n",
    "         epochs=2)"
   ]
  },
  {
   "cell_type": "code",
   "execution_count": 350,
   "metadata": {},
   "outputs": [],
   "source": [
    "def most_similar(word, embeddings):\n",
    "    similar = [id2word[i] for i in \n",
    "               cosine_distances(embeddings[word2id[word]].reshape(1, -1), embeddings).argsort()[0][:10]]\n",
    "    return similar"
   ]
  },
  {
   "cell_type": "code",
   "execution_count": 457,
   "metadata": {},
   "outputs": [
    {
     "data": {
      "text/plain": [
       "array([[ 0.00733243, -0.04357791, -0.03040538, ...,  0.0008682 ,\n",
       "        -0.00533449, -0.04183025],\n",
       "       [ 0.0510933 , -0.16332394, -0.11392925, ...,  0.05141505,\n",
       "         0.00851451, -0.24266575],\n",
       "       [-0.06946175,  0.06787024, -0.10097951, ..., -0.01747768,\n",
       "         0.00719332, -0.07784453],\n",
       "       ...,\n",
       "       [ 0.0326532 , -0.02552987, -0.00651176, ..., -0.01274529,\n",
       "        -0.00746864, -0.00185075],\n",
       "       [-0.12107421, -0.07121219, -0.10681707, ..., -0.03537206,\n",
       "         0.02592787,  0.21696618],\n",
       "       [-0.04179142,  0.01882444,  0.0110376 , ...,  0.02325856,\n",
       "        -0.01633014,  0.00440263]], dtype=float32)"
      ]
     },
     "execution_count": 457,
     "metadata": {},
     "output_type": "execute_result"
    }
   ],
   "source": [
    "embeddings_sg"
   ]
  },
  {
   "cell_type": "markdown",
   "metadata": {},
   "source": [
    "## CBOW"
   ]
  },
  {
   "cell_type": "code",
   "execution_count": 352,
   "metadata": {},
   "outputs": [],
   "source": [
    "X = []\n",
    "y = []\n",
    "\n",
    "window = 6\n",
    "for sent in sentences[:10000]:\n",
    "    for i in range(len(sent)-1):\n",
    "        word = sent[i]\n",
    "        context = sent[max(0, i-window):i] + sent[i+1:i+window]\n",
    "        \n",
    "        X.append(context)\n",
    "        y.append(word)\n",
    "\n",
    "X = tf.keras.preprocessing.sequence.pad_sequences(X, maxlen=10, padding='post')\n",
    "y = np.array(y)\n",
    "X_train, X_valid, y_train, y_valid = train_test_split(X, y, test_size=0.05)"
   ]
  },
  {
   "cell_type": "code",
   "execution_count": 356,
   "metadata": {},
   "outputs": [],
   "source": [
    "def gen_batches_cbow(sentences, probs_id, inverse_probability, window = 5, batch_size=1000):\n",
    "    while True:\n",
    "        X_target = []\n",
    "        X_context = []\n",
    "        y = []\n",
    "\n",
    "        for sent in sentences:\n",
    "            for i in range(len(sent)-1):\n",
    "                word = sent[i]\n",
    "                context = sent[max(0, i-window):i] + sent[i+1:i+window]\n",
    "\n",
    "                X_target.append(word)\n",
    "                X_context.append(context)\n",
    "                y.append(1)\n",
    "#                 inverse_probability = [(1-x) for x in probs_id.values()]\n",
    "#                 inverse_probability = [x/sum(inverse_probability) for x in inverse_probability]\n",
    "                X_target.append(np.random.choice(list(probs_id.keys()), p=list(inverse_probability)))\n",
    "#                 X_context.append(weighted_choice(list(probs_id.keys()), inverse_probability))\n",
    "                X_context.append(context)\n",
    "                y.append(0)\n",
    "\n",
    "                if len(X_target) == batch_size:\n",
    "                    X_target = np.array(X_target)\n",
    "                    X_context = tf.keras.preprocessing.sequence.pad_sequences(X_context, maxlen=window*2)\n",
    "                    y = np.array(y)\n",
    "                    yield ((X_target, X_context), y)\n",
    "                    X_target = []\n",
    "                    X_context = []\n",
    "                    y = []"
   ]
  },
  {
   "cell_type": "code",
   "execution_count": 357,
   "metadata": {},
   "outputs": [],
   "source": [
    "#cbow negative sampling\n",
    "inputs_target = tf.keras.layers.Input(shape=(1,))\n",
    "inputs_context = tf.keras.layers.Input(shape=(10,))\n",
    "\n",
    "\n",
    "embeddings_target = tf.keras.layers.Embedding(input_dim=len(word2id), output_dim=300)(inputs_target, )\n",
    "embeddings_context = tf.keras.layers.Embedding(input_dim=len(word2id), output_dim=300)(inputs_context, )\n",
    "\n",
    "target = tf.keras.layers.Flatten()(embeddings_target)\n",
    "context = tf.keras.layers.Lambda(lambda x: tf.keras.backend.sum(x, axis=1))(embeddings_context)\n",
    "dot = tf.keras.layers.Dot(1)([target, context])\n",
    "\n",
    "# полученную близость нужно преобразовать в вероятность\n",
    "# когда она одна используется не софтмакс и сигмоида\n",
    "outputs = tf.keras.layers.Activation(activation='sigmoid')(dot)\n",
    "\n",
    "model = tf.keras.Model(inputs=[inputs_target, inputs_context], \n",
    "                       outputs=outputs)\n",
    "\n",
    "\n",
    "optimizer = tf.keras.optimizers.Adam(learning_rate=0.001)\n",
    "model.compile(optimizer=optimizer,\n",
    "              loss='binary_crossentropy',\n",
    "              metrics=['accuracy'])\n",
    "\n"
   ]
  },
  {
   "cell_type": "code",
   "execution_count": 358,
   "metadata": {},
   "outputs": [
    {
     "name": "stdout",
     "output_type": "stream",
     "text": [
      "Epoch 1/2\n",
      "5000/5000 [==============================] - 3328s 666ms/step - loss: 0.3555 - accuracy: 0.8478 - val_loss: 0.2938 - val_accuracy: 0.8804\n",
      "Epoch 2/2\n",
      "5000/5000 [==============================] - 3298s 660ms/step - loss: 0.2663 - accuracy: 0.8910 - val_loss: 0.2631 - val_accuracy: 0.8938\n"
     ]
    },
    {
     "data": {
      "text/plain": [
       "<keras.callbacks.History at 0x7ff6396114f0>"
      ]
     },
     "execution_count": 358,
     "metadata": {},
     "output_type": "execute_result"
    }
   ],
   "source": [
    "model.fit(gen_batches_cbow(sentences[:19000], probs_id=probs_id, inverse_probability=inverse_probability, window=5),\n",
    "          validation_data=gen_batches_cbow(sentences[19000:],  probs_id=probs_id, inverse_probability=inverse_probability, window=5),\n",
    "          batch_size=1000,\n",
    "          steps_per_epoch=5000,\n",
    "          validation_steps=30,\n",
    "         epochs=2)"
   ]
  },
  {
   "cell_type": "code",
   "execution_count": 359,
   "metadata": {},
   "outputs": [],
   "source": [
    "embeddings_cbow = model.layers[2].get_weights()[0]"
   ]
  },
  {
   "cell_type": "code",
   "execution_count": null,
   "metadata": {},
   "outputs": [],
   "source": []
  },
  {
   "cell_type": "markdown",
   "metadata": {},
   "source": [
    "## Evaluation"
   ]
  },
  {
   "cell_type": "code",
   "execution_count": 360,
   "metadata": {},
   "outputs": [
    {
     "data": {
      "text/plain": [
       "['машина',\n",
       " 'эффект',\n",
       " 'поверхность',\n",
       " 'управляемый',\n",
       " 'кузов',\n",
       " 'плоскость',\n",
       " 'достаточно',\n",
       " 'отрицательный',\n",
       " 'спереди',\n",
       " 'крен']"
      ]
     },
     "execution_count": 360,
     "metadata": {},
     "output_type": "execute_result"
    }
   ],
   "source": [
    "most_similar('машина', embeddings_sg)"
   ]
  },
  {
   "cell_type": "code",
   "execution_count": 361,
   "metadata": {},
   "outputs": [
    {
     "data": {
      "text/plain": [
       "['таджикистан',\n",
       " '1970',\n",
       " 'обком',\n",
       " 'узбекистан',\n",
       " 'сержант',\n",
       " 'тула',\n",
       " 'горком',\n",
       " '«об',\n",
       " 'чехословакия',\n",
       " 'уругвай']"
      ]
     },
     "execution_count": 361,
     "metadata": {},
     "output_type": "execute_result"
    }
   ],
   "source": [
    "most_similar('таджикистан', embeddings_sg)"
   ]
  },
  {
   "cell_type": "code",
   "execution_count": 362,
   "metadata": {},
   "outputs": [
    {
     "data": {
      "text/plain": [
       "['цик',\n",
       " '1778',\n",
       " '3:1',\n",
       " 'рупрехт',\n",
       " '2,4',\n",
       " 'ношение',\n",
       " 'контроллер',\n",
       " 'эмилий',\n",
       " 'превращать',\n",
       " 'виконт']"
      ]
     },
     "execution_count": 362,
     "metadata": {},
     "output_type": "execute_result"
    }
   ],
   "source": [
    "most_similar('цик', embeddings_sg)"
   ]
  },
  {
   "cell_type": "code",
   "execution_count": 363,
   "metadata": {},
   "outputs": [
    {
     "data": {
      "text/plain": [
       "['машина',\n",
       " 'автомобиль',\n",
       " 'двигатель',\n",
       " 'модификация',\n",
       " 'самолёт',\n",
       " 'патрон',\n",
       " 'кузов',\n",
       " 'грузовик',\n",
       " 'мощность',\n",
       " 'вагон']"
      ]
     },
     "execution_count": 363,
     "metadata": {},
     "output_type": "execute_result"
    }
   ],
   "source": [
    "most_similar('машина', embeddings_cbow)"
   ]
  },
  {
   "cell_type": "code",
   "execution_count": 364,
   "metadata": {},
   "outputs": [
    {
     "data": {
      "text/plain": [
       "['таджикистан',\n",
       " 'прогрессивно-консервативный',\n",
       " 'суринам',\n",
       " 'венесуэла',\n",
       " 'федеративный',\n",
       " 'герцеговина',\n",
       " 'нигерия',\n",
       " 'туркменистан',\n",
       " 'шри-ланка',\n",
       " 'коста-рика']"
      ]
     },
     "execution_count": 364,
     "metadata": {},
     "output_type": "execute_result"
    }
   ],
   "source": [
    "most_similar('таджикистан', embeddings_cbow)"
   ]
  },
  {
   "cell_type": "code",
   "execution_count": 365,
   "metadata": {},
   "outputs": [
    {
     "data": {
      "text/plain": [
       "['цик',\n",
       " 'совнарком',\n",
       " 'снк',\n",
       " 'президиум',\n",
       " 'коркмас',\n",
       " 'рк',\n",
       " 'исполком',\n",
       " '21.02.97',\n",
       " 'политбюро',\n",
       " 'вцик']"
      ]
     },
     "execution_count": 365,
     "metadata": {},
     "output_type": "execute_result"
    }
   ],
   "source": [
    "most_similar('цик', embeddings_cbow)"
   ]
  },
  {
   "cell_type": "markdown",
   "metadata": {},
   "source": [
    "# Задание 2 (3 балла)"
   ]
  },
  {
   "cell_type": "markdown",
   "metadata": {},
   "source": [
    "Обучите 1 word2vec и 1 fastext модель в gensim. В каждой из модели нужно задать все параметры, которые мы разбирали на семинаре. Заданные значения должны отличаться от дефолтных и от тех, что мы использовали на семинаре."
   ]
  },
  {
   "cell_type": "markdown",
   "metadata": {},
   "source": [
    "## Word2Vec"
   ]
  },
  {
   "cell_type": "code",
   "execution_count": null,
   "metadata": {},
   "outputs": [],
   "source": [
    "texts = [preprocess(sent) for sent in wiki]"
   ]
  },
  {
   "cell_type": "code",
   "execution_count": 107,
   "metadata": {},
   "outputs": [
    {
     "name": "stdout",
     "output_type": "stream",
     "text": [
      "CPU times: user 46.5 s, sys: 216 ms, total: 46.7 s\n",
      "Wall time: 16.6 s\n"
     ]
    }
   ],
   "source": [
    "%%time\n",
    "from gensim.models import Word2Vec\n",
    "\n",
    "w2v = gensim.models.Word2Vec(texts, \n",
    "                             vector_size=150, \n",
    "                             min_count=50, \n",
    "                             window=8,\n",
    "                             epochs=5,\n",
    "                             sg=0,\n",
    "                             negative=10)"
   ]
  },
  {
   "cell_type": "code",
   "execution_count": 108,
   "metadata": {},
   "outputs": [
    {
     "data": {
      "text/plain": [
       "[('храм', 0.8058937191963196),\n",
       " ('собор', 0.7716497182846069),\n",
       " ('монастырь', 0.7416670322418213),\n",
       " ('православный', 0.7362950444221497),\n",
       " ('часовня', 0.7262058854103088),\n",
       " ('святитель', 0.7181317210197449),\n",
       " ('прихожанин', 0.7146062850952148),\n",
       " ('святыня', 0.7139266133308411),\n",
       " ('приход', 0.7019685506820679),\n",
       " ('епархия', 0.6950180530548096)]"
      ]
     },
     "execution_count": 108,
     "metadata": {},
     "output_type": "execute_result"
    }
   ],
   "source": [
    "w2v.wv.similar_by_word('церковь')"
   ]
  },
  {
   "cell_type": "code",
   "execution_count": 106,
   "metadata": {},
   "outputs": [
    {
     "data": {
      "text/plain": [
       "[('двигатель', 0.8030075430870056),\n",
       " ('мотор', 0.7985329627990723),\n",
       " ('легковой', 0.7820788621902466),\n",
       " ('шасси', 0.7801100015640259),\n",
       " ('машина', 0.7775271534919739),\n",
       " ('honda', 0.7482985258102417),\n",
       " ('lotus', 0.7452974915504456),\n",
       " ('модель', 0.7427676916122437),\n",
       " ('кузов', 0.7424094080924988),\n",
       " ('болид', 0.7362204194068909)]"
      ]
     },
     "execution_count": 106,
     "metadata": {},
     "output_type": "execute_result"
    }
   ],
   "source": [
    "w2v.wv.similar_by_word('автомобиль')"
   ]
  },
  {
   "cell_type": "code",
   "execution_count": 109,
   "metadata": {},
   "outputs": [
    {
     "data": {
      "text/plain": [
       "[('охотиться', 0.7038978934288025),\n",
       " ('кошка', 0.6966310143470764),\n",
       " ('собачий', 0.6752084493637085),\n",
       " ('рыба', 0.6735085844993591),\n",
       " ('птица', 0.6731878519058228),\n",
       " ('животное', 0.666873574256897),\n",
       " ('мясо', 0.6529771685600281),\n",
       " ('хищник', 0.6504086256027222),\n",
       " ('моллюск', 0.64482581615448),\n",
       " ('зверь', 0.6434037089347839)]"
      ]
     },
     "execution_count": 109,
     "metadata": {},
     "output_type": "execute_result"
    }
   ],
   "source": [
    "w2v.wv.similar_by_word('собака')"
   ]
  },
  {
   "cell_type": "markdown",
   "metadata": {},
   "source": [
    "## FastText"
   ]
  },
  {
   "cell_type": "code",
   "execution_count": 112,
   "metadata": {},
   "outputs": [
    {
     "name": "stdout",
     "output_type": "stream",
     "text": [
      "CPU times: user 3min 17s, sys: 2.73 s, total: 3min 19s\n",
      "Wall time: 1min 14s\n"
     ]
    }
   ],
   "source": [
    "%%time\n",
    "ft = gensim.models.FastText(texts, min_n=5, max_n=20)"
   ]
  },
  {
   "cell_type": "code",
   "execution_count": 113,
   "metadata": {},
   "outputs": [
    {
     "data": {
      "text/plain": [
       "[('церковь»', 0.9967513680458069),\n",
       " ('«церковь', 0.9965009689331055),\n",
       " ('морковь', 0.9675905108451843),\n",
       " ('церква', 0.9621313810348511),\n",
       " ('церкви»', 0.8940010666847229),\n",
       " ('перковы', 0.8845993876457214),\n",
       " ('собор', 0.8685480356216431),\n",
       " ('«собор', 0.8669697642326355),\n",
       " ('«храм', 0.8664926290512085),\n",
       " ('храм', 0.8623743653297424)]"
      ]
     },
     "execution_count": 113,
     "metadata": {},
     "output_type": "execute_result"
    }
   ],
   "source": [
    "ft.wv.most_similar('церковь')"
   ]
  },
  {
   "cell_type": "code",
   "execution_count": null,
   "metadata": {},
   "outputs": [],
   "source": []
  },
  {
   "cell_type": "markdown",
   "metadata": {},
   "source": [
    "# Задание 3 (4 балла)"
   ]
  },
  {
   "cell_type": "markdown",
   "metadata": {},
   "source": [
    "Используя датасет для классификации (labeled.csv) и простую нейронную сеть (последняя модель в семинаре), оцените качество полученных эмбедингов в задании 1 и 2 (4 набора эмбедингов), также проверьте 1 любую из предобученных моделей с rus-vectores (но только не tayga_upos_skipgram_300_2_2019). \n",
    "Какая модель показывает наилучший результат?\n",
    "\n",
    "Убедитесь, что для каждой модели вы корректно воспроизводите пайплайн предобработки (в 1 задании у вас лемматизация, не забудьте ее применить к датасету для классификации; у выбранной предобученной модели может быть своя специфичная предобработка - ее нужно воспроизвести)"
   ]
  },
  {
   "cell_type": "code",
   "execution_count": 6,
   "metadata": {},
   "outputs": [],
   "source": [
    "data = pd.read_csv('labeled.csv')"
   ]
  },
  {
   "cell_type": "code",
   "execution_count": 7,
   "metadata": {},
   "outputs": [],
   "source": [
    "data['norm_text'] = data.comment.apply(preprocess)"
   ]
  },
  {
   "cell_type": "code",
   "execution_count": 8,
   "metadata": {},
   "outputs": [
    {
     "data": {
      "text/plain": [
       "6309"
      ]
     },
     "execution_count": 8,
     "metadata": {},
     "output_type": "execute_result"
    }
   ],
   "source": [
    "vocab = Counter()\n",
    "\n",
    "for text in data['norm_text']:\n",
    "    vocab.update(text)\n",
    "    \n",
    "filtered_vocab = set()\n",
    "\n",
    "for word in vocab:\n",
    "    if vocab[word] > 5:\n",
    "        filtered_vocab.add(word)\n",
    "\n",
    "len(filtered_vocab)"
   ]
  },
  {
   "cell_type": "code",
   "execution_count": 9,
   "metadata": {},
   "outputs": [],
   "source": [
    "word2id = { 'PAD':0}\n",
    "\n",
    "for word in filtered_vocab:\n",
    "    word2id[word] = len(word2id)\n",
    "id2word = {i:word for word, i in word2id.items()}"
   ]
  },
  {
   "cell_type": "code",
   "execution_count": 10,
   "metadata": {},
   "outputs": [],
   "source": [
    "X = []\n",
    "\n",
    "for tokens in data['norm_text']:\n",
    "    ids = [word2id[token] for token in tokens if token in word2id]\n",
    "    X.append(ids)"
   ]
  },
  {
   "cell_type": "code",
   "execution_count": 11,
   "metadata": {},
   "outputs": [],
   "source": [
    "X = tf.keras.preprocessing.sequence.pad_sequences(X, maxlen=150)\n",
    "y = data.toxic.values"
   ]
  },
  {
   "cell_type": "code",
   "execution_count": 12,
   "metadata": {},
   "outputs": [],
   "source": [
    "X_train, X_valid, y_train, y_valid = train_test_split(X, y, test_size=0.05)"
   ]
  },
  {
   "cell_type": "markdown",
   "metadata": {},
   "source": [
    "# W2V"
   ]
  },
  {
   "cell_type": "code",
   "execution_count": 381,
   "metadata": {},
   "outputs": [],
   "source": [
    "weights = np.zeros((len(word2id), 150))\n",
    "\n",
    "for word, i in word2id.items():\n",
    "    # вектор паддинга оставим нулевым\n",
    "    if word == 'PAD':\n",
    "        continue\n",
    "    try:\n",
    "        weights[i] = w2v.wv[word]\n",
    "    except KeyError:\n",
    "        # для слов, которых нет в модели тоже возьмем какой-то  рандомный вектор\n",
    "        continue\n",
    "        weights[i] = w2v.wv['опрагпллирао']"
   ]
  },
  {
   "cell_type": "code",
   "execution_count": 382,
   "metadata": {},
   "outputs": [],
   "source": [
    "inputs = tf.keras.layers.Input(shape=(150,))\n",
    "\n",
    "embeddings = tf.keras.layers.Embedding(input_dim=len(word2id), output_dim=150, \n",
    "                                       trainable=False,\n",
    "                                       weights=[weights])(inputs, )\n",
    "mean = tf.keras.layers.Lambda(lambda x: tf.keras.backend.mean(x,  axis=1))(embeddings)\n",
    "\n",
    "outputs = tf.keras.layers.Dense(1, activation='sigmoid')(mean)\n",
    "\n",
    "model = tf.keras.Model(inputs=inputs, outputs=outputs)\n",
    "optimizer = tf.keras.optimizers.Adam()\n",
    "model.compile(optimizer=optimizer,\n",
    "              loss='binary_crossentropy',\n",
    "              metrics=['accuracy'])\n",
    "\n"
   ]
  },
  {
   "cell_type": "code",
   "execution_count": 383,
   "metadata": {
    "scrolled": true
   },
   "outputs": [
    {
     "name": "stdout",
     "output_type": "stream",
     "text": [
      "Epoch 1/30\n",
      "428/428 [==============================] - 1s 1ms/step - loss: 0.6274 - accuracy: 0.6626 - val_loss: 0.6096 - val_accuracy: 0.6505\n",
      "Epoch 2/30\n",
      "428/428 [==============================] - 0s 967us/step - loss: 0.5943 - accuracy: 0.6658 - val_loss: 0.5900 - val_accuracy: 0.6491\n",
      "Epoch 3/30\n",
      "428/428 [==============================] - 0s 954us/step - loss: 0.5766 - accuracy: 0.6671 - val_loss: 0.5756 - val_accuracy: 0.6505\n",
      "Epoch 4/30\n",
      "428/428 [==============================] - 0s 1ms/step - loss: 0.5638 - accuracy: 0.6712 - val_loss: 0.5642 - val_accuracy: 0.6602\n",
      "Epoch 5/30\n",
      "428/428 [==============================] - 0s 954us/step - loss: 0.5538 - accuracy: 0.6796 - val_loss: 0.5549 - val_accuracy: 0.6741\n",
      "Epoch 6/30\n",
      "428/428 [==============================] - 0s 1ms/step - loss: 0.5458 - accuracy: 0.6898 - val_loss: 0.5470 - val_accuracy: 0.6921\n",
      "Epoch 7/30\n",
      "428/428 [==============================] - 0s 989us/step - loss: 0.5391 - accuracy: 0.6993 - val_loss: 0.5406 - val_accuracy: 0.6976\n",
      "Epoch 8/30\n",
      "428/428 [==============================] - 0s 948us/step - loss: 0.5335 - accuracy: 0.7047 - val_loss: 0.5345 - val_accuracy: 0.7074\n",
      "Epoch 9/30\n",
      "428/428 [==============================] - 0s 914us/step - loss: 0.5287 - accuracy: 0.7134 - val_loss: 0.5296 - val_accuracy: 0.7101\n",
      "Epoch 10/30\n",
      "428/428 [==============================] - 0s 923us/step - loss: 0.5245 - accuracy: 0.7186 - val_loss: 0.5250 - val_accuracy: 0.7212\n",
      "Epoch 11/30\n",
      "428/428 [==============================] - 0s 958us/step - loss: 0.5209 - accuracy: 0.7251 - val_loss: 0.5211 - val_accuracy: 0.7226\n",
      "Epoch 12/30\n",
      "428/428 [==============================] - 0s 883us/step - loss: 0.5178 - accuracy: 0.7289 - val_loss: 0.5176 - val_accuracy: 0.7309\n",
      "Epoch 13/30\n",
      "428/428 [==============================] - 0s 905us/step - loss: 0.5150 - accuracy: 0.7331 - val_loss: 0.5147 - val_accuracy: 0.7323\n",
      "Epoch 14/30\n",
      "428/428 [==============================] - 0s 1ms/step - loss: 0.5125 - accuracy: 0.7371 - val_loss: 0.5114 - val_accuracy: 0.7393\n",
      "Epoch 15/30\n",
      "428/428 [==============================] - 0s 880us/step - loss: 0.5102 - accuracy: 0.7395 - val_loss: 0.5091 - val_accuracy: 0.7420\n",
      "Epoch 16/30\n",
      "428/428 [==============================] - 1s 1ms/step - loss: 0.5082 - accuracy: 0.7407 - val_loss: 0.5065 - val_accuracy: 0.7434\n",
      "Epoch 17/30\n",
      "428/428 [==============================] - 1s 1ms/step - loss: 0.5063 - accuracy: 0.7441 - val_loss: 0.5046 - val_accuracy: 0.7434\n",
      "Epoch 18/30\n",
      "428/428 [==============================] - 1s 1ms/step - loss: 0.5047 - accuracy: 0.7456 - val_loss: 0.5023 - val_accuracy: 0.7462\n",
      "Epoch 19/30\n",
      "428/428 [==============================] - 0s 1ms/step - loss: 0.5032 - accuracy: 0.7470 - val_loss: 0.5006 - val_accuracy: 0.7448\n",
      "Epoch 20/30\n",
      "428/428 [==============================] - 0s 875us/step - loss: 0.5018 - accuracy: 0.7492 - val_loss: 0.4990 - val_accuracy: 0.7448\n",
      "Epoch 21/30\n",
      "428/428 [==============================] - 0s 963us/step - loss: 0.5005 - accuracy: 0.7501 - val_loss: 0.4973 - val_accuracy: 0.7490\n",
      "Epoch 22/30\n",
      "428/428 [==============================] - 0s 944us/step - loss: 0.4994 - accuracy: 0.7524 - val_loss: 0.4958 - val_accuracy: 0.7517\n",
      "Epoch 23/30\n",
      "428/428 [==============================] - 1s 1ms/step - loss: 0.4983 - accuracy: 0.7550 - val_loss: 0.4947 - val_accuracy: 0.7490\n",
      "Epoch 24/30\n",
      "428/428 [==============================] - 0s 1ms/step - loss: 0.4972 - accuracy: 0.7542 - val_loss: 0.4934 - val_accuracy: 0.7503\n",
      "Epoch 25/30\n",
      "428/428 [==============================] - 1s 1ms/step - loss: 0.4963 - accuracy: 0.7556 - val_loss: 0.4923 - val_accuracy: 0.7517\n",
      "Epoch 26/30\n",
      "428/428 [==============================] - 1s 1ms/step - loss: 0.4954 - accuracy: 0.7563 - val_loss: 0.4911 - val_accuracy: 0.7503\n",
      "Epoch 27/30\n",
      "428/428 [==============================] - 0s 1ms/step - loss: 0.4946 - accuracy: 0.7586 - val_loss: 0.4904 - val_accuracy: 0.7503\n",
      "Epoch 28/30\n",
      "428/428 [==============================] - 0s 879us/step - loss: 0.4938 - accuracy: 0.7584 - val_loss: 0.4892 - val_accuracy: 0.7503\n",
      "Epoch 29/30\n",
      "428/428 [==============================] - 0s 1ms/step - loss: 0.4930 - accuracy: 0.7580 - val_loss: 0.4882 - val_accuracy: 0.7545\n",
      "Epoch 30/30\n",
      "428/428 [==============================] - 0s 1ms/step - loss: 0.4924 - accuracy: 0.7601 - val_loss: 0.4874 - val_accuracy: 0.7545\n"
     ]
    },
    {
     "data": {
      "text/plain": [
       "<keras.callbacks.History at 0x7ff62e7a6bb0>"
      ]
     },
     "execution_count": 383,
     "metadata": {},
     "output_type": "execute_result"
    }
   ],
   "source": [
    "model.fit(X_train, y_train, \n",
    "          validation_data=(X_valid, y_valid),\n",
    "          batch_size=32,\n",
    "         epochs=30)"
   ]
  },
  {
   "cell_type": "code",
   "execution_count": 384,
   "metadata": {},
   "outputs": [
    {
     "name": "stdout",
     "output_type": "stream",
     "text": [
      "dict_keys(['loss', 'accuracy', 'val_loss', 'val_accuracy'])\n"
     ]
    },
    {
     "data": {
      "image/png": "[encoded data removed]",
      "text/plain": [
       "<Figure size 432x288 with 1 Axes>"
      ]
     },
     "metadata": {
      "needs_background": "light"
     },
     "output_type": "display_data"
    }
   ],
   "source": [
    "print(model.history.history.keys())\n",
    "# summarize history for accuracy\n",
    "plt.plot(model.history.history['accuracy'])\n",
    "plt.plot(model.history.history['val_accuracy'])\n",
    "plt.title('model accuracy')\n",
    "plt.ylabel('accuracy')\n",
    "plt.xlabel('epoch')\n",
    "plt.legend(['train', 'val'], loc='upper left')\n",
    "plt.show()"
   ]
  },
  {
   "cell_type": "markdown",
   "metadata": {},
   "source": [
    "# FT"
   ]
  },
  {
   "cell_type": "code",
   "execution_count": 395,
   "metadata": {},
   "outputs": [],
   "source": [
    "weights = np.zeros((len(word2id), 100))\n",
    "\n",
    "for word, i in word2id.items():\n",
    "    # вектор паддинга оставим нулевым\n",
    "    if word == 'PAD':\n",
    "        continue\n",
    "    try:\n",
    "        weights[i] = ft.wv[word]\n",
    "    except KeyError:\n",
    "        # для слов, которых нет в модели тоже возьмем какой-то  рандомный вектор\n",
    "        continue\n",
    "        weights[i] = ft.wv['опрагпллирао']"
   ]
  },
  {
   "cell_type": "code",
   "execution_count": 399,
   "metadata": {},
   "outputs": [],
   "source": [
    "inputs = tf.keras.layers.Input(shape=(150,))\n",
    "\n",
    "embeddings = tf.keras.layers.Embedding(input_dim=len(word2id), output_dim=100, \n",
    "                                       trainable=False,\n",
    "                                       weights=[weights])(inputs, )\n",
    "mean = tf.keras.layers.Lambda(lambda x: tf.keras.backend.mean(x,  axis=1))(embeddings)\n",
    "\n",
    "outputs = tf.keras.layers.Dense(1, activation='sigmoid')(mean)\n",
    "\n",
    "model = tf.keras.Model(inputs=inputs, outputs=outputs)\n",
    "optimizer = tf.keras.optimizers.Adam()\n",
    "model.compile(optimizer=optimizer,\n",
    "              loss='binary_crossentropy',\n",
    "              metrics=['accuracy'])"
   ]
  },
  {
   "cell_type": "code",
   "execution_count": 400,
   "metadata": {
    "scrolled": true
   },
   "outputs": [
    {
     "name": "stdout",
     "output_type": "stream",
     "text": [
      "Epoch 1/30\n",
      "428/428 [==============================] - 1s 1ms/step - loss: 0.6244 - accuracy: 0.6517 - val_loss: 0.6122 - val_accuracy: 0.6477\n",
      "Epoch 2/30\n",
      "428/428 [==============================] - 0s 1ms/step - loss: 0.5968 - accuracy: 0.6685 - val_loss: 0.6012 - val_accuracy: 0.6546\n",
      "Epoch 3/30\n",
      "428/428 [==============================] - 0s 945us/step - loss: 0.5866 - accuracy: 0.6731 - val_loss: 0.5951 - val_accuracy: 0.6560\n",
      "Epoch 4/30\n",
      "428/428 [==============================] - 0s 969us/step - loss: 0.5804 - accuracy: 0.6789 - val_loss: 0.5892 - val_accuracy: 0.6657\n",
      "Epoch 5/30\n",
      "428/428 [==============================] - 0s 960us/step - loss: 0.5759 - accuracy: 0.6812 - val_loss: 0.5853 - val_accuracy: 0.6657\n",
      "Epoch 6/30\n",
      "428/428 [==============================] - 0s 945us/step - loss: 0.5726 - accuracy: 0.6828 - val_loss: 0.5814 - val_accuracy: 0.6699\n",
      "Epoch 7/30\n",
      "428/428 [==============================] - 1s 1ms/step - loss: 0.5700 - accuracy: 0.6854 - val_loss: 0.5788 - val_accuracy: 0.6741\n",
      "Epoch 8/30\n",
      "428/428 [==============================] - 1s 1ms/step - loss: 0.5680 - accuracy: 0.6870 - val_loss: 0.5764 - val_accuracy: 0.6782\n",
      "Epoch 9/30\n",
      "428/428 [==============================] - 1s 1ms/step - loss: 0.5658 - accuracy: 0.6892 - val_loss: 0.5741 - val_accuracy: 0.6755\n",
      "Epoch 10/30\n",
      "428/428 [==============================] - 1s 1ms/step - loss: 0.5642 - accuracy: 0.6910 - val_loss: 0.5722 - val_accuracy: 0.6810\n",
      "Epoch 11/30\n",
      "428/428 [==============================] - 1s 1ms/step - loss: 0.5630 - accuracy: 0.6934 - val_loss: 0.5703 - val_accuracy: 0.6838\n",
      "Epoch 12/30\n",
      "428/428 [==============================] - 1s 2ms/step - loss: 0.5613 - accuracy: 0.6943 - val_loss: 0.5690 - val_accuracy: 0.6852\n",
      "Epoch 13/30\n",
      "428/428 [==============================] - 1s 1ms/step - loss: 0.5604 - accuracy: 0.6940 - val_loss: 0.5670 - val_accuracy: 0.6865\n",
      "Epoch 14/30\n",
      "428/428 [==============================] - 0s 1ms/step - loss: 0.5593 - accuracy: 0.6956 - val_loss: 0.5656 - val_accuracy: 0.6893\n",
      "Epoch 15/30\n",
      "428/428 [==============================] - 1s 1ms/step - loss: 0.5584 - accuracy: 0.6964 - val_loss: 0.5645 - val_accuracy: 0.6879\n",
      "Epoch 16/30\n",
      "428/428 [==============================] - 0s 1ms/step - loss: 0.5572 - accuracy: 0.6970 - val_loss: 0.5631 - val_accuracy: 0.6893\n",
      "Epoch 17/30\n",
      "428/428 [==============================] - 0s 963us/step - loss: 0.5566 - accuracy: 0.6975 - val_loss: 0.5621 - val_accuracy: 0.6921\n",
      "Epoch 18/30\n",
      "428/428 [==============================] - 0s 1ms/step - loss: 0.5559 - accuracy: 0.6979 - val_loss: 0.5608 - val_accuracy: 0.6935\n",
      "Epoch 19/30\n",
      "428/428 [==============================] - 1s 1ms/step - loss: 0.5552 - accuracy: 0.7009 - val_loss: 0.5597 - val_accuracy: 0.6963\n",
      "Epoch 20/30\n",
      "428/428 [==============================] - 1s 1ms/step - loss: 0.5545 - accuracy: 0.7007 - val_loss: 0.5588 - val_accuracy: 0.6963\n",
      "Epoch 21/30\n",
      "428/428 [==============================] - 1s 1ms/step - loss: 0.5537 - accuracy: 0.7005 - val_loss: 0.5576 - val_accuracy: 0.6963\n",
      "Epoch 22/30\n",
      "428/428 [==============================] - 1s 1ms/step - loss: 0.5531 - accuracy: 0.7013 - val_loss: 0.5565 - val_accuracy: 0.6963\n",
      "Epoch 23/30\n",
      "428/428 [==============================] - 1s 1ms/step - loss: 0.5528 - accuracy: 0.7028 - val_loss: 0.5556 - val_accuracy: 0.7004\n",
      "Epoch 24/30\n",
      "428/428 [==============================] - 0s 949us/step - loss: 0.5519 - accuracy: 0.7034 - val_loss: 0.5554 - val_accuracy: 0.6990\n",
      "Epoch 25/30\n",
      "428/428 [==============================] - 0s 955us/step - loss: 0.5514 - accuracy: 0.7053 - val_loss: 0.5543 - val_accuracy: 0.7004\n",
      "Epoch 26/30\n",
      "428/428 [==============================] - 0s 946us/step - loss: 0.5508 - accuracy: 0.7040 - val_loss: 0.5539 - val_accuracy: 0.7046\n",
      "Epoch 27/30\n",
      "428/428 [==============================] - 0s 954us/step - loss: 0.5504 - accuracy: 0.7063 - val_loss: 0.5527 - val_accuracy: 0.7032\n",
      "Epoch 28/30\n",
      "428/428 [==============================] - 0s 961us/step - loss: 0.5499 - accuracy: 0.7052 - val_loss: 0.5529 - val_accuracy: 0.7032\n",
      "Epoch 29/30\n",
      "428/428 [==============================] - 0s 987us/step - loss: 0.5495 - accuracy: 0.7059 - val_loss: 0.5512 - val_accuracy: 0.7060\n",
      "Epoch 30/30\n",
      "428/428 [==============================] - 0s 945us/step - loss: 0.5490 - accuracy: 0.7073 - val_loss: 0.5513 - val_accuracy: 0.7074\n"
     ]
    },
    {
     "data": {
      "text/plain": [
       "<keras.callbacks.History at 0x7ff630722c10>"
      ]
     },
     "execution_count": 400,
     "metadata": {},
     "output_type": "execute_result"
    }
   ],
   "source": [
    "model.fit(X_train, y_train, \n",
    "          validation_data=(X_valid, y_valid),\n",
    "          batch_size=32,\n",
    "         epochs=30)"
   ]
  },
  {
   "cell_type": "code",
   "execution_count": 401,
   "metadata": {},
   "outputs": [
    {
     "name": "stdout",
     "output_type": "stream",
     "text": [
      "dict_keys(['loss', 'accuracy', 'val_loss', 'val_accuracy'])\n"
     ]
    },
    {
     "data": {
      "image/png": "[encoded data removed]",
      "text/plain": [
       "<Figure size 432x288 with 1 Axes>"
      ]
     },
     "metadata": {
      "needs_background": "light"
     },
     "output_type": "display_data"
    }
   ],
   "source": [
    "print(model.history.history.keys())\n",
    "# summarize history for accuracy\n",
    "plt.plot(model.history.history['accuracy'])\n",
    "plt.plot(model.history.history['val_accuracy'])\n",
    "plt.title('model accuracy')\n",
    "plt.ylabel('accuracy')\n",
    "plt.xlabel('epoch')\n",
    "plt.legend(['train', 'val'], loc='upper left')\n",
    "plt.show()"
   ]
  },
  {
   "cell_type": "markdown",
   "metadata": {},
   "source": [
    "# CBOW"
   ]
  },
  {
   "cell_type": "markdown",
   "metadata": {},
   "source": [
    "# SG"
   ]
  },
  {
   "cell_type": "code",
   "execution_count": null,
   "metadata": {},
   "outputs": [],
   "source": []
  },
  {
   "cell_type": "code",
   "execution_count": null,
   "metadata": {},
   "outputs": [],
   "source": []
  },
  {
   "cell_type": "code",
   "execution_count": null,
   "metadata": {},
   "outputs": [],
   "source": []
  },
  {
   "cell_type": "markdown",
   "metadata": {},
   "source": [
    "# RusVectores"
   ]
  },
  {
   "cell_type": "code",
   "execution_count": 30,
   "metadata": {},
   "outputs": [],
   "source": [
    "X = tf.keras.preprocessing.sequence.pad_sequences(X, maxlen=300)\n",
    "y = data.toxic.values"
   ]
  },
  {
   "cell_type": "code",
   "execution_count": 31,
   "metadata": {},
   "outputs": [],
   "source": [
    "X_train, X_valid, y_train, y_valid = train_test_split(X, y, test_size=0.05)"
   ]
  },
  {
   "cell_type": "code",
   "execution_count": 32,
   "metadata": {},
   "outputs": [],
   "source": [
    "mapping = {}\n",
    "\n",
    "for line in open('ru-rnc.map.txt'):\n",
    "    ms, ud = line.strip('\\n').split()\n",
    "    mapping[ms] = ud"
   ]
  },
  {
   "cell_type": "code",
   "execution_count": 33,
   "metadata": {},
   "outputs": [],
   "source": [
    "from pymystem3 import Mystem\n",
    "m = Mystem()"
   ]
  },
  {
   "cell_type": "code",
   "execution_count": 34,
   "metadata": {},
   "outputs": [],
   "source": [
    "def normalize_mystem(text):\n",
    "    tokens = []\n",
    "    norm_words = m.analyze(text)\n",
    "    for norm_word in norm_words:\n",
    "        if 'analysis' not in norm_word:\n",
    "            continue\n",
    "            \n",
    "        if not len(norm_word['analysis']):\n",
    "            lemma = norm_word['text']\n",
    "            pos = 'UNKN'\n",
    "        else:\n",
    "            lemma = norm_word[\"analysis\"][0][\"lex\"].lower().strip()\n",
    "            pos = norm_word[\"analysis\"][0][\"gr\"].split(',')[0]\n",
    "            pos = pos.split('=')[0].strip()\n",
    "        pos = mapping[pos]\n",
    "        tokens.append(lemma+'_'+pos)\n",
    "\n",
    "    return tokens"
   ]
  },
  {
   "cell_type": "code",
   "execution_count": 36,
   "metadata": {},
   "outputs": [],
   "source": [
    "from gensim.models import KeyedVectors\n",
    "\n",
    "model = KeyedVectors.load_word2vec_format('180/model.bin', binary=True)"
   ]
  },
  {
   "cell_type": "code",
   "execution_count": 37,
   "metadata": {},
   "outputs": [],
   "source": [
    "weights = np.zeros((len(word2id), 300))\n",
    "\n",
    "for word, i in word2id.items():\n",
    "    # вектор паддинга оставим нулевым\n",
    "    if word == 'PAD':\n",
    "        continue\n",
    "    try:\n",
    "        weights[i] = model[normalize_mystem(word)[0]]\n",
    "    except KeyError:\n",
    "        continue\n",
    "        weights[i] = model.wv['опрагпллирао']\n",
    "    except IndexError:\n",
    "        continue"
   ]
  },
  {
   "cell_type": "code",
   "execution_count": 38,
   "metadata": {},
   "outputs": [],
   "source": [
    "inputs = tf.keras.layers.Input(shape=(300,))\n",
    "\n",
    "embeddings = tf.keras.layers.Embedding(input_dim=len(word2id), output_dim=300, \n",
    "                                       trainable=False,\n",
    "                                       weights=[weights])(inputs, )\n",
    "mean = tf.keras.layers.Lambda(lambda x: tf.keras.backend.mean(x,  axis=1))(embeddings)\n",
    "\n",
    "outputs = tf.keras.layers.Dense(1, activation='sigmoid')(mean)\n",
    "\n",
    "model = tf.keras.Model(inputs=inputs, outputs=outputs)\n",
    "optimizer = tf.keras.optimizers.Adam()\n",
    "model.compile(optimizer=optimizer,\n",
    "              loss='binary_crossentropy',\n",
    "              metrics=['accuracy'])"
   ]
  },
  {
   "cell_type": "code",
   "execution_count": 39,
   "metadata": {
    "scrolled": true
   },
   "outputs": [
    {
     "name": "stdout",
     "output_type": "stream",
     "text": [
      "Train on 13691 samples, validate on 721 samples\n",
      "Epoch 1/30\n",
      "13691/13691 [==============================] - 7s 507us/sample - loss: 0.6098 - accuracy: 0.6661 - val_loss: 0.5800 - val_accuracy: 0.6602\n",
      "Epoch 2/30\n",
      "13691/13691 [==============================] - 7s 489us/sample - loss: 0.5561 - accuracy: 0.6784 - val_loss: 0.5542 - val_accuracy: 0.6755\n",
      "Epoch 3/30\n",
      "13691/13691 [==============================] - 7s 507us/sample - loss: 0.5331 - accuracy: 0.6997 - val_loss: 0.5368 - val_accuracy: 0.6976\n",
      "Epoch 4/30\n",
      "13691/13691 [==============================] - 7s 546us/sample - loss: 0.5169 - accuracy: 0.7248 - val_loss: 0.5236 - val_accuracy: 0.7282\n",
      "Epoch 5/30\n",
      "13691/13691 [==============================] - 6s 405us/sample - loss: 0.5047 - accuracy: 0.7462 - val_loss: 0.5132 - val_accuracy: 0.7531\n",
      "Epoch 6/30\n",
      "13691/13691 [==============================] - 6s 462us/sample - loss: 0.4951 - accuracy: 0.7636 - val_loss: 0.5051 - val_accuracy: 0.7642\n",
      "Epoch 7/30\n",
      "13691/13691 [==============================] - 7s 537us/sample - loss: 0.4874 - accuracy: 0.7719 - val_loss: 0.4993 - val_accuracy: 0.7739\n",
      "Epoch 8/30\n",
      "13691/13691 [==============================] - 9s 622us/sample - loss: 0.4810 - accuracy: 0.7785 - val_loss: 0.4934 - val_accuracy: 0.7864\n",
      "Epoch 9/30\n",
      "13691/13691 [==============================] - 8s 551us/sample - loss: 0.4756 - accuracy: 0.7831 - val_loss: 0.4889 - val_accuracy: 0.7864\n",
      "Epoch 10/30\n",
      "13691/13691 [==============================] - 9s 672us/sample - loss: 0.4709 - accuracy: 0.7868 - val_loss: 0.4844 - val_accuracy: 0.7906\n",
      "Epoch 11/30\n",
      "13691/13691 [==============================] - 7s 534us/sample - loss: 0.4669 - accuracy: 0.7920 - val_loss: 0.4810 - val_accuracy: 0.7933\n",
      "Epoch 12/30\n",
      "13691/13691 [==============================] - 7s 493us/sample - loss: 0.4634 - accuracy: 0.7950 - val_loss: 0.4779 - val_accuracy: 0.7975\n",
      "Epoch 13/30\n",
      "13691/13691 [==============================] - 7s 515us/sample - loss: 0.4602 - accuracy: 0.7983 - val_loss: 0.4755 - val_accuracy: 0.8003\n",
      "Epoch 14/30\n",
      "13691/13691 [==============================] - 10s 732us/sample - loss: 0.4574 - accuracy: 0.7989 - val_loss: 0.4727 - val_accuracy: 0.7975\n",
      "Epoch 15/30\n",
      "13691/13691 [==============================] - 6s 471us/sample - loss: 0.4548 - accuracy: 0.8017 - val_loss: 0.4705 - val_accuracy: 0.8003\n",
      "Epoch 16/30\n",
      "13691/13691 [==============================] - 5s 383us/sample - loss: 0.4524 - accuracy: 0.8024 - val_loss: 0.4681 - val_accuracy: 0.8072\n",
      "Epoch 17/30\n",
      "13691/13691 [==============================] - 5s 379us/sample - loss: 0.4503 - accuracy: 0.8040 - val_loss: 0.4669 - val_accuracy: 0.8058\n",
      "Epoch 18/30\n",
      "13691/13691 [==============================] - 6s 413us/sample - loss: 0.4483 - accuracy: 0.8055 - val_loss: 0.4652 - val_accuracy: 0.8058\n",
      "Epoch 19/30\n",
      "13691/13691 [==============================] - 6s 449us/sample - loss: 0.4464 - accuracy: 0.8053 - val_loss: 0.4632 - val_accuracy: 0.8086\n",
      "Epoch 20/30\n",
      "13691/13691 [==============================] - 6s 465us/sample - loss: 0.4447 - accuracy: 0.8075 - val_loss: 0.4617 - val_accuracy: 0.8100\n",
      "Epoch 21/30\n",
      "13691/13691 [==============================] - 7s 540us/sample - loss: 0.4431 - accuracy: 0.8092 - val_loss: 0.4604 - val_accuracy: 0.8100\n",
      "Epoch 22/30\n",
      "13691/13691 [==============================] - 6s 439us/sample - loss: 0.4416 - accuracy: 0.8089 - val_loss: 0.4592 - val_accuracy: 0.8100\n",
      "Epoch 23/30\n",
      "13691/13691 [==============================] - 6s 446us/sample - loss: 0.4401 - accuracy: 0.8094 - val_loss: 0.4580 - val_accuracy: 0.8100\n",
      "Epoch 24/30\n",
      "13691/13691 [==============================] - 6s 472us/sample - loss: 0.4388 - accuracy: 0.8105 - val_loss: 0.4569 - val_accuracy: 0.8114\n",
      "Epoch 25/30\n",
      "13691/13691 [==============================] - 6s 450us/sample - loss: 0.4375 - accuracy: 0.8113 - val_loss: 0.4557 - val_accuracy: 0.8128\n",
      "Epoch 26/30\n",
      "13691/13691 [==============================] - 5s 393us/sample - loss: 0.4363 - accuracy: 0.8130 - val_loss: 0.4550 - val_accuracy: 0.8128\n",
      "Epoch 27/30\n",
      "13691/13691 [==============================] - 6s 409us/sample - loss: 0.4351 - accuracy: 0.8132 - val_loss: 0.4538 - val_accuracy: 0.8086\n",
      "Epoch 28/30\n",
      "13691/13691 [==============================] - 5s 396us/sample - loss: 0.4340 - accuracy: 0.8141 - val_loss: 0.4530 - val_accuracy: 0.8086\n",
      "Epoch 29/30\n",
      "13691/13691 [==============================] - 5s 388us/sample - loss: 0.4329 - accuracy: 0.8142 - val_loss: 0.4520 - val_accuracy: 0.8072\n",
      "Epoch 30/30\n",
      "13691/13691 [==============================] - 6s 405us/sample - loss: 0.4320 - accuracy: 0.8150 - val_loss: 0.4513 - val_accuracy: 0.8072\n"
     ]
    },
    {
     "data": {
      "text/plain": [
       "<tensorflow.python.keras.callbacks.History at 0x7fc95e499dd0>"
      ]
     },
     "execution_count": 39,
     "metadata": {},
     "output_type": "execute_result"
    }
   ],
   "source": [
    "model.fit(X_train, y_train, \n",
    "          validation_data=(X_valid, y_valid),\n",
    "          batch_size=32,\n",
    "         epochs=30)"
   ]
  },
  {
   "cell_type": "code",
   "execution_count": 40,
   "metadata": {},
   "outputs": [
    {
     "name": "stdout",
     "output_type": "stream",
     "text": [
      "dict_keys(['loss', 'accuracy', 'val_loss', 'val_accuracy'])\n"
     ]
    },
    {
     "data": {
      "image/png": "[encoded data removed]",
      "text/plain": [
       "<Figure size 432x288 with 1 Axes>"
      ]
     },
     "metadata": {
      "needs_background": "light"
     },
     "output_type": "display_data"
    }
   ],
   "source": [
    "print(model.history.history.keys())\n",
    "# summarize history for accuracy\n",
    "plt.plot(model.history.history['accuracy'])\n",
    "plt.plot(model.history.history['val_accuracy'])\n",
    "plt.title('model accuracy')\n",
    "plt.ylabel('accuracy')\n",
    "plt.xlabel('epoch')\n",
    "plt.legend(['train', 'val'], loc='upper left')\n",
    "plt.show()"
   ]
  },
  {
   "cell_type": "markdown",
   "metadata": {},
   "source": [
    "Модель из RusVectores справляется лучше"
   ]
  },
  {
   "cell_type": "code",
   "execution_count": null,
   "metadata": {},
   "outputs": [],
   "source": []
  }
 ],
 "metadata": {
  "kernelspec": {
   "display_name": "Python 3",
   "language": "python",
   "name": "python3"
  },
  "language_info": {
   "codemirror_mode": {
    "name": "ipython",
    "version": 3
   },
   "file_extension": ".py",
   "mimetype": "text/x-python",
   "name": "python",
   "nbconvert_exporter": "python",
   "pygments_lexer": "ipython3",
   "version": "3.7.6"
  }
 },
 "nbformat": 4,
 "nbformat_minor": 5
}
